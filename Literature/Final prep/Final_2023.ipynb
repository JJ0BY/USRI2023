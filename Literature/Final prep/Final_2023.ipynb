{
 "cells": [
  {
   "cell_type": "markdown",
   "metadata": {},
   "source": [
    "# DataScience 2000B / Integrated Science 2000B Final 2023\n",
    "\n",
    "\n",
    "## Your Student ID: ########\n",
    "\n",
    "## General \n",
    "The instruction for the final exam for DS2000B / IS2002B is included in this Jupyter Notebook. \n",
    "\n",
    "- You are allowed to use any document and source and look up documents on the internet. You are not allowed to use chatGPT, copilot, or any other AI engine that provides programming assistance. \n",
    "- You or not allowed to share documents, or communicate in any other way with people during period of final. Given that there are students with extra time, this is until 6pm.  \n",
    "- You are only allowed to use the python packages listed under \"preliminaries\" - the use of other regression (e.g., statsmodels, numpy polyfit) or machine learning toolboxes (e.g., sklearn) is not permitted. \n",
    "- All the code you are using from previous assignments or labs needs to be included in the notebook. \n",
    "- Most questions also require some written answer. The answer to these questions should be given in full English sentences. \n",
    "- All Figures should be appropriately labeled in x and y axis.  \n",
    "- The Final exam needs to be submitted on OWL (Assignment) before 5:30pm. If you have approved accommodation, you need to submit after 3.5 hrs + your extra time after the start of the exam at 2pm.\n",
    "- Any final submitted later than the alloted time will be scored with 0 pts.  \n",
    "- **It is your responsibility that you submit the correct file. Please check that you uploaded the correct file by downloading the submitted version and opening it in jupyter before you leave the exam room.** "
   ]
  },
  {
   "cell_type": "markdown",
   "metadata": {},
   "source": [
    "## Problem description \n",
    "\n",
    "Companies are increasingly using Machine Learning algorithms and Artificial Intelligence (AI) to select the job applicants that they want to bring in for an interview. Many applications are nowadays not seen by a human at all anymore - the initial screening is done purely by algorithms. \n",
    "\n",
    "These algorithms work in quite similar ways to the classification algorithms (logistic regression) that you've learned in class: They are models with many parameters, which have been optimized on a training set of data (using a loss function and gradient). The best algorithm will then be picked by testing its predictive performance on a left-out test set. \n",
    "\n",
    "The data the algorithm is trained on a large number of applications from previous job-applicants. It tries to predict whether the job candidate was judged to suitable for the job after the interview. These candidates are shortlisted by the algorithm (shortlist, coded 0: not shortlisted, 1: shortlisted).\n",
    "\n",
    "The main problem with these algorithms is that they are often biased, simply because the original training data was biased. That is, if more white males were invited to an interview than females of ethnic minorities, then the algorithm learns that a name such as \"Alexander\" predicts better chances of being suitable for the job than \"Aaliyah\", even if all the other performance indicators are matched. \n",
    "\n",
    "The company that sells the algorithm claims that the algorithm is unbiased. However, you are more critical, and want to test whether this is really true, before recommending to use the algorithm for hiring. "
   ]
  },
  {
   "cell_type": "markdown",
   "metadata": {},
   "source": [
    "You decide to conduct an experiment to test the influence of the first name on the decision. \n",
    "Because the algorithm detects when it gets the same application twice (and dismisses them), every single application must be slightly different. Since you have taken Data Science 2000 - this is no problem for you! You write a program that generate 1500 applications, each with a random GPA, degree, University, font, formatting.\n",
    "\n",
    "You then *randomly* assign whether the first name is male or female. You also *randomly choose* whether the first and last name sound White Canadian, or to belong to an ethnic minority (black, first nation, asian, persian). The CVs are then submitted to the algorithm that then gives you a decision of \"shortlisted\" and \"not shortlisted\". \n",
    "\n",
    "The dataset `recruitment.csv` contains the data with the data frame: \n",
    "\n",
    "* age: age of the candidate in years\n",
    "* undergrad_degree: DataSci, CompSci, or Stats\n",
    "* gender: Likely gender indicated by first name on application (male / female)\n",
    "* minority: Whether the name sounds like it belongs to a Canadian of Caucasian descent or not (0: caucasian, 1: non-caucasian)\n",
    "* shortlist: Whether the candidate was shortlisted by the algorithm (0: not shortlisted, 1: shortlisted)"
   ]
  },
  {
   "cell_type": "code",
   "execution_count": 1,
   "metadata": {
    "ExecuteTime": {
     "end_time": "2023-04-16T18:49:56.843821Z",
     "start_time": "2023-04-16T18:49:49.649917Z"
    }
   },
   "outputs": [],
   "source": [
    "# Preliminaries - you are only allowed to import the following packages\n",
    "import numpy as np\n",
    "import pandas as pd\n",
    "import matplotlib.pyplot as plt\n",
    "import seaborn as sns\n",
    "import scipy.optimize as so"
   ]
  },
  {
   "cell_type": "code",
   "execution_count": 6,
   "metadata": {
    "ExecuteTime": {
     "end_time": "2023-04-16T18:51:36.710748Z",
     "start_time": "2023-04-16T18:51:36.672699Z"
    }
   },
   "outputs": [],
   "source": [
    "df = pd.read_csv('recruitment.csv')"
   ]
  },
  {
   "cell_type": "code",
   "execution_count": 7,
   "metadata": {
    "ExecuteTime": {
     "end_time": "2023-04-16T18:51:36.858554Z",
     "start_time": "2023-04-16T18:51:36.826164Z"
    }
   },
   "outputs": [
    {
     "data": {
      "text/html": [
       "<div>\n",
       "<style scoped>\n",
       "    .dataframe tbody tr th:only-of-type {\n",
       "        vertical-align: middle;\n",
       "    }\n",
       "\n",
       "    .dataframe tbody tr th {\n",
       "        vertical-align: top;\n",
       "    }\n",
       "\n",
       "    .dataframe thead th {\n",
       "        text-align: right;\n",
       "    }\n",
       "</style>\n",
       "<table border=\"1\" class=\"dataframe\">\n",
       "  <thead>\n",
       "    <tr style=\"text-align: right;\">\n",
       "      <th></th>\n",
       "      <th>age</th>\n",
       "      <th>undergrad_degree</th>\n",
       "      <th>gender</th>\n",
       "      <th>minority</th>\n",
       "      <th>GPA</th>\n",
       "      <th>shortlist</th>\n",
       "    </tr>\n",
       "  </thead>\n",
       "  <tbody>\n",
       "    <tr>\n",
       "      <th>0</th>\n",
       "      <td>24</td>\n",
       "      <td>CompSci</td>\n",
       "      <td>female</td>\n",
       "      <td>1</td>\n",
       "      <td>3.73</td>\n",
       "      <td>1</td>\n",
       "    </tr>\n",
       "    <tr>\n",
       "      <th>1</th>\n",
       "      <td>31</td>\n",
       "      <td>DataSci</td>\n",
       "      <td>female</td>\n",
       "      <td>1</td>\n",
       "      <td>2.82</td>\n",
       "      <td>0</td>\n",
       "    </tr>\n",
       "    <tr>\n",
       "      <th>2</th>\n",
       "      <td>30</td>\n",
       "      <td>DataSci</td>\n",
       "      <td>female</td>\n",
       "      <td>1</td>\n",
       "      <td>1.83</td>\n",
       "      <td>0</td>\n",
       "    </tr>\n",
       "    <tr>\n",
       "      <th>3</th>\n",
       "      <td>28</td>\n",
       "      <td>DataSci</td>\n",
       "      <td>female</td>\n",
       "      <td>1</td>\n",
       "      <td>2.32</td>\n",
       "      <td>0</td>\n",
       "    </tr>\n",
       "    <tr>\n",
       "      <th>4</th>\n",
       "      <td>28</td>\n",
       "      <td>CompSci</td>\n",
       "      <td>female</td>\n",
       "      <td>0</td>\n",
       "      <td>3.91</td>\n",
       "      <td>0</td>\n",
       "    </tr>\n",
       "  </tbody>\n",
       "</table>\n",
       "</div>"
      ],
      "text/plain": [
       "   age undergrad_degree  gender  minority   GPA  shortlist\n",
       "0   24          CompSci  female         1  3.73          1\n",
       "1   31          DataSci  female         1  2.82          0\n",
       "2   30          DataSci  female         1  1.83          0\n",
       "3   28          DataSci  female         1  2.32          0\n",
       "4   28          CompSci  female         0  3.91          0"
      ]
     },
     "execution_count": 7,
     "metadata": {},
     "output_type": "execute_result"
    }
   ],
   "source": [
    "df.head()"
   ]
  },
  {
   "cell_type": "markdown",
   "metadata": {},
   "source": [
    "## Task 1: (26pts)\n",
    "### Questions 1.1: (3pts)\n",
    "Calculate the probability of being shortlisted by the algorithm with a male and female name. Report the probabilities. "
   ]
  },
  {
   "cell_type": "code",
   "execution_count": 17,
   "metadata": {
    "ExecuteTime": {
     "end_time": "2023-04-16T18:56:22.633443Z",
     "start_time": "2023-04-16T18:56:22.512919Z"
    }
   },
   "outputs": [
    {
     "data": {
      "text/html": [
       "<div>\n",
       "<style scoped>\n",
       "    .dataframe tbody tr th:only-of-type {\n",
       "        vertical-align: middle;\n",
       "    }\n",
       "\n",
       "    .dataframe tbody tr th {\n",
       "        vertical-align: top;\n",
       "    }\n",
       "\n",
       "    .dataframe thead th {\n",
       "        text-align: right;\n",
       "    }\n",
       "</style>\n",
       "<table border=\"1\" class=\"dataframe\">\n",
       "  <thead>\n",
       "    <tr style=\"text-align: right;\">\n",
       "      <th>gender</th>\n",
       "      <th>female</th>\n",
       "      <th>male</th>\n",
       "      <th>All</th>\n",
       "    </tr>\n",
       "    <tr>\n",
       "      <th>shortlist</th>\n",
       "      <th></th>\n",
       "      <th></th>\n",
       "      <th></th>\n",
       "    </tr>\n",
       "  </thead>\n",
       "  <tbody>\n",
       "    <tr>\n",
       "      <th>0</th>\n",
       "      <td>542</td>\n",
       "      <td>559</td>\n",
       "      <td>1101</td>\n",
       "    </tr>\n",
       "    <tr>\n",
       "      <th>1</th>\n",
       "      <td>179</td>\n",
       "      <td>220</td>\n",
       "      <td>399</td>\n",
       "    </tr>\n",
       "    <tr>\n",
       "      <th>All</th>\n",
       "      <td>721</td>\n",
       "      <td>779</td>\n",
       "      <td>1500</td>\n",
       "    </tr>\n",
       "  </tbody>\n",
       "</table>\n",
       "</div>"
      ],
      "text/plain": [
       "gender     female  male   All\n",
       "shortlist                    \n",
       "0             542   559  1101\n",
       "1             179   220   399\n",
       "All           721   779  1500"
      ]
     },
     "metadata": {},
     "output_type": "display_data"
    },
    {
     "name": "stdout",
     "output_type": "stream",
     "text": [
      "Probabiblity of being shortlisted given that you are female: 24.83\n",
      "Probabiblity of being shortlisted given that you are male: 28.24\n"
     ]
    }
   ],
   "source": [
    "#Create a cross table \n",
    "table = pd.crosstab(df[\"shortlist\"], df[\"gender\"], margins=True)\n",
    "display(table)\n",
    "\n",
    "f_sl = table.iloc[1, 0]/table.iloc[2, 0]\n",
    "m_sl = table.iloc[1, 1]/table.iloc[2, 1]\n",
    "print(f'Probabiblity of being shortlisted given that you are female: {f_sl*100:.2f}')\n",
    "print(f'Probabiblity of being shortlisted given that you are male: {m_sl*100:.2f}')"
   ]
  },
  {
   "cell_type": "markdown",
   "metadata": {},
   "source": [
    "### Question 1.2: (3pts)\n",
    "Write a function that takes a data frame as input and then returns the difference in probability of being shortlisted by the algorithm between males and females. \n",
    "\n",
    "Call the function with the real data and report the difference in percentage of male and female candidates being shortlisted. "
   ]
  },
  {
   "cell_type": "code",
   "execution_count": 18,
   "metadata": {
    "ExecuteTime": {
     "end_time": "2023-04-16T18:58:07.375640Z",
     "start_time": "2023-04-16T18:58:07.345313Z"
    }
   },
   "outputs": [],
   "source": [
    "\n",
    "def diffMean(df):\n",
    "    \n",
    "    table = pd.crosstab(df[\"shortlist\"], df[\"gender\"], margins=True)\n",
    "\n",
    "    f_sl = table.iloc[1, 0]/table.iloc[2, 0]\n",
    "    m_sl = table.iloc[1, 1]/table.iloc[2, 1]\n",
    "    \n",
    "    return m_sl-f_sl"
   ]
  },
  {
   "cell_type": "code",
   "execution_count": 195,
   "metadata": {
    "ExecuteTime": {
     "end_time": "2023-04-16T20:27:37.666211Z",
     "start_time": "2023-04-16T20:27:37.544197Z"
    }
   },
   "outputs": [
    {
     "name": "stdout",
     "output_type": "stream",
     "text": [
      "The difference in male and female shortlist percentage is 3.41\n"
     ]
    }
   ],
   "source": [
    "print(f'The difference in male and female shortlist percentage is {diffMean(df)*100:.2f}')"
   ]
  },
  {
   "cell_type": "markdown",
   "metadata": {},
   "source": [
    "### Question 1.3: (8pts)\n",
    "In this question, you will determine whether the gender difference found in Q.1.2 is significant.\n",
    "\n",
    "You want to test the hypothesis that the algorithm takes the (likely) gender of the first name on the application into account when making shortlisting decisions. \n",
    "\n",
    "* Formulate the Null-hypothesis\n",
    "* Conduct a randomization test where you randomly randomly shuffle the column of the dataframe that is exchangeable under the Null hypothesis. \n",
    "* Plot a histogram of the difference in probability between male and female candidates. \n",
    "* Choose whether you are conducting a one-sided or two-sided test\n",
    "* Report the p-value for testing the the hypothesis and draw a conclusion"
   ]
  },
  {
   "cell_type": "markdown",
   "metadata": {},
   "source": [
    "H0: Gender does not influence the chance of being shortlisted (H0 = 0)\n",
    "\n",
    "HA: Gender has an influence on being shortlisted (H0 != 0)"
   ]
  },
  {
   "cell_type": "code",
   "execution_count": 196,
   "metadata": {
    "ExecuteTime": {
     "end_time": "2023-04-16T20:27:38.793152Z",
     "start_time": "2023-04-16T20:27:38.728459Z"
    }
   },
   "outputs": [],
   "source": [
    "\n",
    "def randomization(df, func, colName, numIter=500, numSides=1, Bins=None):\n",
    "\n",
    "    List = []\n",
    "    \n",
    "    #The original test statistic is calculated using the func function and stored in the Emperical_Value variable. \n",
    "    Emperical_Value = func(df)\n",
    "    \n",
    "    #The code then enters a while loop and performs the following steps numIter times:\n",
    "    n = 0\n",
    "    while n < numIter:\n",
    "\n",
    "        #Copy table and reset index \n",
    "        table = df.copy()\n",
    "        table.reset_index(inplace=True)\n",
    "\n",
    "        #Shuffle the column \n",
    "        idx = table.index\n",
    "        idx_arr = np.arange(0, len(idx))\n",
    "        np.random.shuffle(idx_arr)\n",
    "\n",
    "        #Add the shuffled column into the dataframe and return the dataframe \n",
    "        shuffled_column = table[colName].iloc[idx_arr]\n",
    "        shuffled_column_id = shuffled_column.reset_index(drop=True)\n",
    "        table[colName] = shuffled_column_id\n",
    "        table.drop(['index'], axis=1, inplace=True)\n",
    "    \n",
    "        print(f'Iteration: {n}', end = '\\r')\n",
    "        \n",
    "        #Sometimes creates a Nan value which needs to be filtered out \n",
    "        point = [func(table)]\n",
    "        NAN = not(any(np.isnan(point)))\n",
    "        INF = not(any(np.isinf(point)))\n",
    "        if (NAN and INF):\n",
    "            List.append(point)\n",
    "            n+=1\n",
    "\n",
    "    #Get the p-value from two sides:\n",
    "    data = np.array(List)\n",
    "    \n",
    "    if numSides == 2:\n",
    "        P = np.average(np.absolute(data) >= Emperical_Value)\n",
    "    else:\n",
    "        P = np.average(data >= Emperical_Value)\n",
    "        \n",
    "    #Lower tail transformation for single end and double ends\n",
    "    if P > 0.5:\n",
    "        P = 1 - P\n",
    "        \n",
    "    #Plot the emperical value\n",
    "    plt.axvline(x=Emperical_Value, color='r', linewidth=2, label='Emperical Result')\n",
    "    \n",
    "    #Plot the data as a histogram and show the p-value \n",
    "    plt.title(colName)\n",
    "    if Bins == None:\n",
    "        plt.hist(data)\n",
    "    else:\n",
    "        plt.hist(data, bins = Bins)\n",
    "        \n",
    "    plt.legend()\n",
    "    plt.ylabel('Counts')\n",
    "    plt.xlabel('Probability')\n",
    "    plt.title('Randomization test histogram using test statistic')\n",
    "    plt.show()\n",
    "\n",
    "    print(f'P-value: {P:.8f}')\n",
    "    print()"
   ]
  },
  {
   "cell_type": "code",
   "execution_count": 58,
   "metadata": {
    "ExecuteTime": {
     "end_time": "2023-04-16T19:25:27.195505Z",
     "start_time": "2023-04-16T19:24:51.668701Z"
    }
   },
   "outputs": [
    {
     "name": "stdout",
     "output_type": "stream",
     "text": [
      "Iteration: 499\r"
     ]
    },
    {
     "data": {
      "image/png": "[encoded data removed]",
      "text/plain": [
       "<Figure size 640x480 with 1 Axes>"
      ]
     },
     "metadata": {},
     "output_type": "display_data"
    },
    {
     "name": "stdout",
     "output_type": "stream",
     "text": [
      "P-value: 0.15600000\n",
      "\n"
     ]
    }
   ],
   "source": [
    "randomization(df, diffMean, colName='shortlist', numSides=2)"
   ]
  },
  {
   "cell_type": "markdown",
   "metadata": {},
   "source": [
    "We are using a two sided test because HA is an inequality statement and because p = 0.16 > 0.05, the results are not significant and we do not have enough evidence to reject H0. Therefore, with 0.05 significance level, gender does not influence the applicants chance of being shortlisted."
   ]
  },
  {
   "cell_type": "markdown",
   "metadata": {},
   "source": [
    "### Question 1.4 (5pts)\n",
    "In this question we will test whether the algorithm is biased against women of ethnic minorities. We will do this by comparing the probability of being shortlisted for a application with a female minority name to anybody else. \n",
    "\n",
    "Add a new column entitled 'female_minority' that is 1 if the name indicates the the applicant is both female AND a member of a minority, and 0 otherwise. \n",
    "\n",
    "Write a function that returns the difference in the probability of getting shortlisted for female members of an ethnic minority against anybody else. Report the difference between the two groups. "
   ]
  },
  {
   "cell_type": "code",
   "execution_count": 44,
   "metadata": {
    "ExecuteTime": {
     "end_time": "2023-04-16T19:15:23.391182Z",
     "start_time": "2023-04-16T19:15:23.367917Z"
    }
   },
   "outputs": [],
   "source": [
    "\n",
    "\n",
    "df['female_minority'] = np.where(((df['minority'] == 1) & (df['gender'] == 'female')), 1, 0)"
   ]
  },
  {
   "cell_type": "code",
   "execution_count": 227,
   "metadata": {
    "ExecuteTime": {
     "end_time": "2023-04-16T20:48:16.985863Z",
     "start_time": "2023-04-16T20:48:16.937292Z"
    }
   },
   "outputs": [
    {
     "data": {
      "text/html": [
       "<div>\n",
       "<style scoped>\n",
       "    .dataframe tbody tr th:only-of-type {\n",
       "        vertical-align: middle;\n",
       "    }\n",
       "\n",
       "    .dataframe tbody tr th {\n",
       "        vertical-align: top;\n",
       "    }\n",
       "\n",
       "    .dataframe thead th {\n",
       "        text-align: right;\n",
       "    }\n",
       "</style>\n",
       "<table border=\"1\" class=\"dataframe\">\n",
       "  <thead>\n",
       "    <tr style=\"text-align: right;\">\n",
       "      <th></th>\n",
       "      <th>age</th>\n",
       "      <th>undergrad_degree</th>\n",
       "      <th>gender</th>\n",
       "      <th>minority</th>\n",
       "      <th>GPA</th>\n",
       "      <th>shortlist</th>\n",
       "      <th>female_minority</th>\n",
       "      <th>dumGender</th>\n",
       "      <th>dumCompSci</th>\n",
       "      <th>dumStats</th>\n",
       "      <th>ZGPA</th>\n",
       "      <th>Zage</th>\n",
       "      <th>ZdumGender</th>\n",
       "      <th>Zminority</th>\n",
       "    </tr>\n",
       "  </thead>\n",
       "  <tbody>\n",
       "    <tr>\n",
       "      <th>0</th>\n",
       "      <td>24</td>\n",
       "      <td>CompSci</td>\n",
       "      <td>female</td>\n",
       "      <td>1</td>\n",
       "      <td>3.73</td>\n",
       "      <td>1</td>\n",
       "      <td>1</td>\n",
       "      <td>0</td>\n",
       "      <td>1</td>\n",
       "      <td>0</td>\n",
       "      <td>1.159480</td>\n",
       "      <td>-1.583638</td>\n",
       "      <td>-1.039097</td>\n",
       "      <td>0.979869</td>\n",
       "    </tr>\n",
       "    <tr>\n",
       "      <th>1</th>\n",
       "      <td>31</td>\n",
       "      <td>DataSci</td>\n",
       "      <td>female</td>\n",
       "      <td>1</td>\n",
       "      <td>2.82</td>\n",
       "      <td>0</td>\n",
       "      <td>1</td>\n",
       "      <td>0</td>\n",
       "      <td>0</td>\n",
       "      <td>0</td>\n",
       "      <td>-0.795810</td>\n",
       "      <td>0.851658</td>\n",
       "      <td>-1.039097</td>\n",
       "      <td>0.979869</td>\n",
       "    </tr>\n",
       "    <tr>\n",
       "      <th>2</th>\n",
       "      <td>30</td>\n",
       "      <td>DataSci</td>\n",
       "      <td>female</td>\n",
       "      <td>1</td>\n",
       "      <td>1.83</td>\n",
       "      <td>0</td>\n",
       "      <td>1</td>\n",
       "      <td>0</td>\n",
       "      <td>0</td>\n",
       "      <td>0</td>\n",
       "      <td>-2.922994</td>\n",
       "      <td>0.503758</td>\n",
       "      <td>-1.039097</td>\n",
       "      <td>0.979869</td>\n",
       "    </tr>\n",
       "    <tr>\n",
       "      <th>3</th>\n",
       "      <td>28</td>\n",
       "      <td>DataSci</td>\n",
       "      <td>female</td>\n",
       "      <td>1</td>\n",
       "      <td>2.32</td>\n",
       "      <td>0</td>\n",
       "      <td>1</td>\n",
       "      <td>0</td>\n",
       "      <td>0</td>\n",
       "      <td>0</td>\n",
       "      <td>-1.870146</td>\n",
       "      <td>-0.192041</td>\n",
       "      <td>-1.039097</td>\n",
       "      <td>0.979869</td>\n",
       "    </tr>\n",
       "    <tr>\n",
       "      <th>4</th>\n",
       "      <td>28</td>\n",
       "      <td>CompSci</td>\n",
       "      <td>female</td>\n",
       "      <td>0</td>\n",
       "      <td>3.91</td>\n",
       "      <td>0</td>\n",
       "      <td>0</td>\n",
       "      <td>0</td>\n",
       "      <td>1</td>\n",
       "      <td>0</td>\n",
       "      <td>1.546241</td>\n",
       "      <td>-0.192041</td>\n",
       "      <td>-1.039097</td>\n",
       "      <td>-1.019864</td>\n",
       "    </tr>\n",
       "  </tbody>\n",
       "</table>\n",
       "</div>"
      ],
      "text/plain": [
       "   age undergrad_degree  gender  minority   GPA  shortlist  female_minority  \\\n",
       "0   24          CompSci  female         1  3.73          1                1   \n",
       "1   31          DataSci  female         1  2.82          0                1   \n",
       "2   30          DataSci  female         1  1.83          0                1   \n",
       "3   28          DataSci  female         1  2.32          0                1   \n",
       "4   28          CompSci  female         0  3.91          0                0   \n",
       "\n",
       "   dumGender  dumCompSci  dumStats      ZGPA      Zage  ZdumGender  Zminority  \n",
       "0          0           1         0  1.159480 -1.583638   -1.039097   0.979869  \n",
       "1          0           0         0 -0.795810  0.851658   -1.039097   0.979869  \n",
       "2          0           0         0 -2.922994  0.503758   -1.039097   0.979869  \n",
       "3          0           0         0 -1.870146 -0.192041   -1.039097   0.979869  \n",
       "4          0           1         0  1.546241 -0.192041   -1.039097  -1.019864  "
      ]
     },
     "execution_count": 227,
     "metadata": {},
     "output_type": "execute_result"
    }
   ],
   "source": [
    "df.head()"
   ]
  },
  {
   "cell_type": "code",
   "execution_count": 229,
   "metadata": {
    "ExecuteTime": {
     "end_time": "2023-04-16T20:48:49.106162Z",
     "start_time": "2023-04-16T20:48:48.943382Z"
    }
   },
   "outputs": [
    {
     "data": {
      "text/html": [
       "<div>\n",
       "<style scoped>\n",
       "    .dataframe tbody tr th:only-of-type {\n",
       "        vertical-align: middle;\n",
       "    }\n",
       "\n",
       "    .dataframe tbody tr th {\n",
       "        vertical-align: top;\n",
       "    }\n",
       "\n",
       "    .dataframe thead th {\n",
       "        text-align: right;\n",
       "    }\n",
       "</style>\n",
       "<table border=\"1\" class=\"dataframe\">\n",
       "  <thead>\n",
       "    <tr style=\"text-align: right;\">\n",
       "      <th>female_minority</th>\n",
       "      <th>0</th>\n",
       "      <th>1</th>\n",
       "      <th>All</th>\n",
       "    </tr>\n",
       "    <tr>\n",
       "      <th>shortlist</th>\n",
       "      <th></th>\n",
       "      <th></th>\n",
       "      <th></th>\n",
       "    </tr>\n",
       "  </thead>\n",
       "  <tbody>\n",
       "    <tr>\n",
       "      <th>0</th>\n",
       "      <td>812</td>\n",
       "      <td>289</td>\n",
       "      <td>1101</td>\n",
       "    </tr>\n",
       "    <tr>\n",
       "      <th>1</th>\n",
       "      <td>326</td>\n",
       "      <td>73</td>\n",
       "      <td>399</td>\n",
       "    </tr>\n",
       "    <tr>\n",
       "      <th>All</th>\n",
       "      <td>1138</td>\n",
       "      <td>362</td>\n",
       "      <td>1500</td>\n",
       "    </tr>\n",
       "  </tbody>\n",
       "</table>\n",
       "</div>"
      ],
      "text/plain": [
       "female_minority     0    1   All\n",
       "shortlist                       \n",
       "0                 812  289  1101\n",
       "1                 326   73   399\n",
       "All              1138  362  1500"
      ]
     },
     "metadata": {},
     "output_type": "display_data"
    },
    {
     "name": "stdout",
     "output_type": "stream",
     "text": [
      "0.28646748681898065 0.20165745856353592\n"
     ]
    }
   ],
   "source": [
    "table = pd.crosstab(df[\"shortlist\"], df[\"female_minority\"], margins=True)\n",
    "display(table)\n",
    "f_sl = table.iloc[1, 0]/table.iloc[2, 0]\n",
    "m_sl = table.iloc[1, 1]/table.iloc[2, 1]\n",
    "\n",
    "print(f_sl, m_sl)"
   ]
  },
  {
   "cell_type": "code",
   "execution_count": 54,
   "metadata": {
    "ExecuteTime": {
     "end_time": "2023-04-16T19:23:17.409543Z",
     "start_time": "2023-04-16T19:23:17.384898Z"
    }
   },
   "outputs": [],
   "source": [
    "\n",
    "def diffMean2(df):\n",
    "    \n",
    "    table = pd.crosstab(df[\"shortlist\"], df[\"female_minority\"], margins=True)\n",
    "    f_sl = table.iloc[1, 0]/table.iloc[2, 0]\n",
    "    m_sl = table.iloc[1, 1]/table.iloc[2, 1]\n",
    "    \n",
    "    return f_sl-m_sl"
   ]
  },
  {
   "cell_type": "code",
   "execution_count": 55,
   "metadata": {
    "ExecuteTime": {
     "end_time": "2023-04-16T19:23:17.686353Z",
     "start_time": "2023-04-16T19:23:17.580363Z"
    }
   },
   "outputs": [
    {
     "name": "stdout",
     "output_type": "stream",
     "text": [
      "You are 8.48 % more likely to get shortlisted if you are a female minority\n"
     ]
    }
   ],
   "source": [
    "print(f'You are {diffMean2(df)*100:.2f} % more likely to get shortlisted if you are a female minority')"
   ]
  },
  {
   "cell_type": "markdown",
   "metadata": {},
   "source": [
    "### Question 1.5: (7pts)\n",
    "In this question you will determine whether the difference observed in Q.1.4 constitute significant discrimination against women of ethics minorities. \n",
    "\n",
    "You want to test the hypothesis that the algorithm is *less likely* to shortlist the candidate, if the name on the application suggests that the applicant is both female and a member of a minority.  \n",
    "\n",
    "* Formulate the Null-hypothesis \n",
    "* Conduct a randomization test (with at least 5000 iterations) where you randomly randomly shuffle the column of the dataframe that is exchangeable under the Null hypothesis. \n",
    "* Plot a histogram of the difference in probability between male and female candidates. \n",
    "* Choose whether you are conducting a one-sided or two-sided test\n",
    "* Report the p-value for testing the the hypothesis and draw a conclusion"
   ]
  },
  {
   "cell_type": "markdown",
   "metadata": {},
   "source": [
    "H0: Being a female and a member of a minority does not influence the chance of being shortlisted (H0 = 0)\n",
    "\n",
    "HA: Being a female and a member of a minority decreases your chance of being shortlisted (H0 > 0)"
   ]
  },
  {
   "cell_type": "code",
   "execution_count": 230,
   "metadata": {
    "ExecuteTime": {
     "end_time": "2023-04-16T20:55:57.213001Z",
     "start_time": "2023-04-16T20:49:50.912647Z"
    }
   },
   "outputs": [
    {
     "name": "stdout",
     "output_type": "stream",
     "text": [
      "Iteration: 4999\r"
     ]
    },
    {
     "data": {
      "image/png": "[encoded data removed]",
      "text/plain": [
       "<Figure size 640x480 with 1 Axes>"
      ]
     },
     "metadata": {},
     "output_type": "display_data"
    },
    {
     "name": "stdout",
     "output_type": "stream",
     "text": [
      "P-value: 0.00160000\n",
      "\n"
     ]
    }
   ],
   "source": [
    "randomization(df, diffMean2, colName='shortlist', numIter=5000)"
   ]
  },
  {
   "cell_type": "markdown",
   "metadata": {},
   "source": [
    "We are using a one sided test because HA is an inequality statement and because p = 0.002 < 0.05, the results are significant and we do have enough evidence to reject H0 (Being a female and a member of a minority does not influence the chance of being shortlisted). Therefore, one can say with a significance level of 0.05 that the algorithim is less likely to shortlist a female minority than a non - female minority. "
   ]
  },
  {
   "cell_type": "markdown",
   "metadata": {},
   "source": [
    "## Task 2: (25pts)\n",
    "\n",
    "Instead of just doing a randomization test to test your hypotheses, you decide that you also need to account for possible other differences between the applications. \n",
    "Even though you randomly assigned the name to each application, you cannot be sure that they are exactly matched between the groups. \n",
    "So you decided to build and test different models of the shortlisting decision of the algorithm. "
   ]
  },
  {
   "cell_type": "markdown",
   "metadata": {},
   "source": [
    "## Question 2.1: (4pts) \n",
    "\n",
    "Create dummy coded variables for gender (male / female) \n",
    "and undergraduate major (DataSci, CompSci, Stats).\n",
    "\n",
    "You are free to choose on of the variables as comparison group - just be aware that it will influence the your interpretation of the regression coefficients later on. \n",
    "\n",
    "Based on your dummy variable, report the proportion of applications that have labels with having a \"Data Science\" Major. "
   ]
  },
  {
   "cell_type": "code",
   "execution_count": 70,
   "metadata": {
    "ExecuteTime": {
     "end_time": "2023-04-16T19:40:47.566540Z",
     "start_time": "2023-04-16T19:40:47.538536Z"
    }
   },
   "outputs": [],
   "source": [
    "df['dumGender'] = np.where(df['gender']=='male', 1, 0)\n",
    "df['dumCompSci'] = np.where(df['undergrad_degree']=='CompSci', 1, 0)\n",
    "df['dumStats'] = np.where(df['undergrad_degree']=='Stats', 1, 0)"
   ]
  },
  {
   "cell_type": "code",
   "execution_count": 71,
   "metadata": {
    "ExecuteTime": {
     "end_time": "2023-04-16T19:40:48.246412Z",
     "start_time": "2023-04-16T19:40:48.189589Z"
    }
   },
   "outputs": [
    {
     "data": {
      "text/html": [
       "<div>\n",
       "<style scoped>\n",
       "    .dataframe tbody tr th:only-of-type {\n",
       "        vertical-align: middle;\n",
       "    }\n",
       "\n",
       "    .dataframe tbody tr th {\n",
       "        vertical-align: top;\n",
       "    }\n",
       "\n",
       "    .dataframe thead th {\n",
       "        text-align: right;\n",
       "    }\n",
       "</style>\n",
       "<table border=\"1\" class=\"dataframe\">\n",
       "  <thead>\n",
       "    <tr style=\"text-align: right;\">\n",
       "      <th></th>\n",
       "      <th>age</th>\n",
       "      <th>undergrad_degree</th>\n",
       "      <th>gender</th>\n",
       "      <th>minority</th>\n",
       "      <th>GPA</th>\n",
       "      <th>shortlist</th>\n",
       "      <th>female_minority</th>\n",
       "      <th>dumGender</th>\n",
       "      <th>dumCompSci</th>\n",
       "      <th>dumStats</th>\n",
       "    </tr>\n",
       "  </thead>\n",
       "  <tbody>\n",
       "    <tr>\n",
       "      <th>0</th>\n",
       "      <td>24</td>\n",
       "      <td>CompSci</td>\n",
       "      <td>female</td>\n",
       "      <td>1</td>\n",
       "      <td>3.73</td>\n",
       "      <td>1</td>\n",
       "      <td>1</td>\n",
       "      <td>0</td>\n",
       "      <td>1</td>\n",
       "      <td>0</td>\n",
       "    </tr>\n",
       "    <tr>\n",
       "      <th>1</th>\n",
       "      <td>31</td>\n",
       "      <td>DataSci</td>\n",
       "      <td>female</td>\n",
       "      <td>1</td>\n",
       "      <td>2.82</td>\n",
       "      <td>0</td>\n",
       "      <td>1</td>\n",
       "      <td>0</td>\n",
       "      <td>0</td>\n",
       "      <td>0</td>\n",
       "    </tr>\n",
       "    <tr>\n",
       "      <th>2</th>\n",
       "      <td>30</td>\n",
       "      <td>DataSci</td>\n",
       "      <td>female</td>\n",
       "      <td>1</td>\n",
       "      <td>1.83</td>\n",
       "      <td>0</td>\n",
       "      <td>1</td>\n",
       "      <td>0</td>\n",
       "      <td>0</td>\n",
       "      <td>0</td>\n",
       "    </tr>\n",
       "    <tr>\n",
       "      <th>3</th>\n",
       "      <td>28</td>\n",
       "      <td>DataSci</td>\n",
       "      <td>female</td>\n",
       "      <td>1</td>\n",
       "      <td>2.32</td>\n",
       "      <td>0</td>\n",
       "      <td>1</td>\n",
       "      <td>0</td>\n",
       "      <td>0</td>\n",
       "      <td>0</td>\n",
       "    </tr>\n",
       "    <tr>\n",
       "      <th>4</th>\n",
       "      <td>28</td>\n",
       "      <td>CompSci</td>\n",
       "      <td>female</td>\n",
       "      <td>0</td>\n",
       "      <td>3.91</td>\n",
       "      <td>0</td>\n",
       "      <td>0</td>\n",
       "      <td>0</td>\n",
       "      <td>1</td>\n",
       "      <td>0</td>\n",
       "    </tr>\n",
       "    <tr>\n",
       "      <th>5</th>\n",
       "      <td>32</td>\n",
       "      <td>DataSci</td>\n",
       "      <td>male</td>\n",
       "      <td>0</td>\n",
       "      <td>3.00</td>\n",
       "      <td>1</td>\n",
       "      <td>0</td>\n",
       "      <td>1</td>\n",
       "      <td>0</td>\n",
       "      <td>0</td>\n",
       "    </tr>\n",
       "    <tr>\n",
       "      <th>6</th>\n",
       "      <td>24</td>\n",
       "      <td>Stats</td>\n",
       "      <td>female</td>\n",
       "      <td>0</td>\n",
       "      <td>2.82</td>\n",
       "      <td>0</td>\n",
       "      <td>0</td>\n",
       "      <td>0</td>\n",
       "      <td>0</td>\n",
       "      <td>1</td>\n",
       "    </tr>\n",
       "    <tr>\n",
       "      <th>7</th>\n",
       "      <td>30</td>\n",
       "      <td>CompSci</td>\n",
       "      <td>male</td>\n",
       "      <td>1</td>\n",
       "      <td>4.00</td>\n",
       "      <td>0</td>\n",
       "      <td>0</td>\n",
       "      <td>1</td>\n",
       "      <td>1</td>\n",
       "      <td>0</td>\n",
       "    </tr>\n",
       "    <tr>\n",
       "      <th>8</th>\n",
       "      <td>26</td>\n",
       "      <td>Stats</td>\n",
       "      <td>female</td>\n",
       "      <td>0</td>\n",
       "      <td>3.83</td>\n",
       "      <td>0</td>\n",
       "      <td>0</td>\n",
       "      <td>0</td>\n",
       "      <td>0</td>\n",
       "      <td>1</td>\n",
       "    </tr>\n",
       "    <tr>\n",
       "      <th>9</th>\n",
       "      <td>24</td>\n",
       "      <td>Stats</td>\n",
       "      <td>female</td>\n",
       "      <td>1</td>\n",
       "      <td>3.21</td>\n",
       "      <td>1</td>\n",
       "      <td>1</td>\n",
       "      <td>0</td>\n",
       "      <td>0</td>\n",
       "      <td>1</td>\n",
       "    </tr>\n",
       "  </tbody>\n",
       "</table>\n",
       "</div>"
      ],
      "text/plain": [
       "   age undergrad_degree  gender  minority   GPA  shortlist  female_minority  \\\n",
       "0   24          CompSci  female         1  3.73          1                1   \n",
       "1   31          DataSci  female         1  2.82          0                1   \n",
       "2   30          DataSci  female         1  1.83          0                1   \n",
       "3   28          DataSci  female         1  2.32          0                1   \n",
       "4   28          CompSci  female         0  3.91          0                0   \n",
       "5   32          DataSci    male         0  3.00          1                0   \n",
       "6   24            Stats  female         0  2.82          0                0   \n",
       "7   30          CompSci    male         1  4.00          0                0   \n",
       "8   26            Stats  female         0  3.83          0                0   \n",
       "9   24            Stats  female         1  3.21          1                1   \n",
       "\n",
       "   dumGender  dumCompSci  dumStats  \n",
       "0          0           1         0  \n",
       "1          0           0         0  \n",
       "2          0           0         0  \n",
       "3          0           0         0  \n",
       "4          0           1         0  \n",
       "5          1           0         0  \n",
       "6          0           0         1  \n",
       "7          1           1         0  \n",
       "8          0           0         1  \n",
       "9          0           0         1  "
      ]
     },
     "execution_count": 71,
     "metadata": {},
     "output_type": "execute_result"
    }
   ],
   "source": [
    "df.head(10)"
   ]
  },
  {
   "cell_type": "code",
   "execution_count": 268,
   "metadata": {
    "ExecuteTime": {
     "end_time": "2023-04-16T21:25:21.589185Z",
     "start_time": "2023-04-16T21:25:21.568885Z"
    }
   },
   "outputs": [
    {
     "name": "stdout",
     "output_type": "stream",
     "text": [
      "0.34\n"
     ]
    }
   ],
   "source": [
    "C = np.where(((df['dumCompSci'] == 0) & (df['dumStats'] == 0)), 1, 0)\n",
    "\n",
    "p = sum(C)/len(C)\n",
    "print(p)"
   ]
  },
  {
   "cell_type": "markdown",
   "metadata": {},
   "source": [
    "The proportion of candidates that have a data science major are 34%"
   ]
  },
  {
   "cell_type": "markdown",
   "metadata": {},
   "source": [
    "### Question 2.2: Build regression model (9pts)\n",
    "\n",
    "Build a regression model to predict the shortlisting decision (1/0) of the algorithm based on the following variables:\n",
    "\n",
    "* gender (dummy coded)\n",
    "* undergrad_degree (dummy coded)\n",
    "* minority\n",
    "* GPA \n",
    "\n",
    "\n",
    "Written answer: From among multiple Regression, median regression, and logistic regression, choose the most appropriate regression technique and justify your choice. \n",
    "\n",
    "Estimate and report the parameters of your model. \n",
    "\n",
    "Written answer: Interpret the gender, minority, and undergraduate degree effects. Which of the groups does the algorithm have a preference for? "
   ]
  },
  {
   "cell_type": "markdown",
   "metadata": {},
   "source": [
    "Logistic regression is the most appropriate because the parameters are for discrete variables "
   ]
  },
  {
   "cell_type": "code",
   "execution_count": 185,
   "metadata": {
    "ExecuteTime": {
     "end_time": "2023-04-16T20:24:00.197979Z",
     "start_time": "2023-04-16T20:24:00.167584Z"
    }
   },
   "outputs": [],
   "source": [
    "def logisticRegPredict(b, D, xname):\n",
    "    \n",
    "    yp = np.ones(len(D[xname].index)) * b[0]\n",
    "\n",
    "    for i in range (len(xname)):\n",
    "        yp += D[xname[i]] * b[i + 1]\n",
    "    \n",
    "    lyp = 1/(1+np.e**-yp)\n",
    "    \n",
    "    return lyp\n",
    "\n",
    "def logisticRegLoss(b, D, y, xname):\n",
    "    p = logisticRegPredict(b, D, xname)\n",
    "\n",
    "    loss = - sum(y*np.log(p) + (1-y)*np.log(1 - p))     \n",
    "    \n",
    "    res = y - p\n",
    "    deriv = np.zeros(len(b))\n",
    "    deriv[0] = -(sum(res))\n",
    "    \n",
    "    for i in range(len(b) - 1):\n",
    "        deriv[i+1] = -np.sum(D[xname[i]]*res)\n",
    "    \n",
    "    return loss, deriv\n",
    "\n",
    "def logisticRegFit(D, y, xname, figure = True, b0=None):\n",
    "    \n",
    "    if b0 == None:\n",
    "        b0 = np.zeros(len(xname) + 1)\n",
    "        \n",
    "    mi = so.minimize(logisticRegLoss, b0, args = (D, y, xname), jac = True)\n",
    "    loss, deriv = logisticRegLoss(mi.x, D, y, xname)\n",
    "\n",
    "    if len(xname) == 1 and figure:\n",
    "        plt.scatter(D[xname[0]], y)\n",
    "        \n",
    "        yp = logisticRegPredict(mi.x, D, xname)\n",
    "        idx = np.argsort(D[xname[0]])\n",
    "        x_sorted = D[xname[0]][idx]\n",
    "        yp_sorted = yp[idx]\n",
    "\n",
    "        # Create a line plot of the predicted values\n",
    "        plt.plot(x_sorted, yp_sorted)\n",
    "        plt.scatter(D[xname[0]], yp)\n",
    "\n",
    "    return mi.x, loss"
   ]
  },
  {
   "cell_type": "code",
   "execution_count": 236,
   "metadata": {
    "ExecuteTime": {
     "end_time": "2023-04-16T21:02:39.952793Z",
     "start_time": "2023-04-16T21:02:39.684265Z"
    }
   },
   "outputs": [],
   "source": [
    "Parameters, Loss = logisticRegFit(df, df['shortlist'], ['dumGender', 'dumCompSci', 'dumStats', 'minority', 'GPA'])"
   ]
  },
  {
   "cell_type": "code",
   "execution_count": 237,
   "metadata": {
    "ExecuteTime": {
     "end_time": "2023-04-16T21:02:40.665723Z",
     "start_time": "2023-04-16T21:02:40.643116Z"
    }
   },
   "outputs": [
    {
     "name": "stdout",
     "output_type": "stream",
     "text": [
      "The Loss is 857.04880\n",
      "The parameters are [-1.75301804  0.19834489 -0.4103103  -0.21011037 -0.3352713   0.31107727]\n"
     ]
    }
   ],
   "source": [
    "print(f'The Loss is {Loss:.5f}')\n",
    "print(f'The parameters are {Parameters}')"
   ]
  },
  {
   "cell_type": "markdown",
   "metadata": {},
   "source": [
    "The model is in favour of males (0.2>0) and those with higher GPA (0.3>0). For the degree, the favour is ranked by Data (0) science, stats(-0.2<0) and computer science (-0.4 <0). The model is also not in favour for minorities (-0.3<0). "
   ]
  },
  {
   "cell_type": "markdown",
   "metadata": {},
   "source": [
    "### Question 2.3: (8pts)\n",
    "Use Model comparison to determine whether gender has an effect on the probability of being shortlisted, after we account for the variables (minority, undergrad_degree, and GPA). \n",
    "\n",
    "Compare the models using 50-fold cross-validation to determine the cross-validated prediction performance the two appropriate model.\n",
    "\n",
    "Is there positive evidence (in the sense of Kass & Raftery, 1995) for an effect of gender on the algorithms decision, after we account for minority, undergrad_degree, and GPA."
   ]
  },
  {
   "cell_type": "code",
   "execution_count": 188,
   "metadata": {
    "ExecuteTime": {
     "end_time": "2023-04-16T20:24:02.368495Z",
     "start_time": "2023-04-16T20:24:02.336820Z"
    }
   },
   "outputs": [],
   "source": [
    "def KfoldCVlogisticReg(D,y,xname, fitfcn=logisticRegFit,predictfcn=logisticRegPredict, K=50):\n",
    "    N = len(y) #Number of observations\n",
    "    yp= np.zeros(N)\n",
    "    ind = np.arange(N)\n",
    "    ind = np.floor(ind/N*K)\n",
    "    \n",
    "    # Get overall model fit \n",
    "    b_all, LL =fitfcn(D,y,xname,figure=False)\n",
    "    \n",
    "    if str(type(b_all)) != '<class \\'list\\'>':\n",
    "        \n",
    "        b_all = [b_all]\n",
    "    # Loop over the crossvalidation folds \n",
    "    for i in range(K):\n",
    "\n",
    "        b, r=fitfcn(D[ind!=i],y[ind!=i],xname,figure=False)\n",
    "        \n",
    "        yp[ind==i]=predictfcn(b,D[ind==i],xname)\n",
    "    LLcv = sum(y*np.log(yp)+(1-y)*np.log(1-yp))\n",
    "    return LLcv,LL "
   ]
  },
  {
   "cell_type": "code",
   "execution_count": 190,
   "metadata": {
    "ExecuteTime": {
     "end_time": "2023-04-16T20:25:02.862092Z",
     "start_time": "2023-04-16T20:24:47.369875Z"
    }
   },
   "outputs": [],
   "source": [
    "R2cv,R2 = KfoldCVlogisticReg(df, df['shortlist'], ['dumGender', 'dumCompSci', 'dumStats', 'minority', 'GPA'], logisticRegFit, logisticRegPredict) "
   ]
  },
  {
   "cell_type": "code",
   "execution_count": 191,
   "metadata": {
    "ExecuteTime": {
     "end_time": "2023-04-16T20:26:11.411672Z",
     "start_time": "2023-04-16T20:25:59.048009Z"
    }
   },
   "outputs": [],
   "source": [
    "R2cv_2,R2_2 = KfoldCVlogisticReg(df, df['shortlist'], ['dumGender'], logisticRegFit, logisticRegPredict) "
   ]
  },
  {
   "cell_type": "code",
   "execution_count": 192,
   "metadata": {
    "ExecuteTime": {
     "end_time": "2023-04-16T20:26:17.385637Z",
     "start_time": "2023-04-16T20:26:17.371483Z"
    }
   },
   "outputs": [
    {
     "name": "stdout",
     "output_type": "stream",
     "text": [
      "7.116593696590371\n"
     ]
    }
   ],
   "source": [
    "BF = R2cv-R2cv_2\n",
    "\n",
    "print(BF)"
   ]
  },
  {
   "cell_type": "markdown",
   "metadata": {},
   "source": [
    "There is strong evidence (BF = 7 > 3) for an effect of gender on the algorithms decision, after we account for minority, undergrad_degree, and GPA according to the Kass & Raftery, 1995"
   ]
  },
  {
   "cell_type": "markdown",
   "metadata": {},
   "source": [
    "### Question 2.4 (4pts)\n",
    "Now use the same approach as in Question 2.3 to test whether being a female AND a member of minority has an influence of the algorithms decision, after we  account for the influence of GPA and undergraduate degree. "
   ]
  },
  {
   "cell_type": "code",
   "execution_count": 193,
   "metadata": {
    "ExecuteTime": {
     "end_time": "2023-04-16T20:26:40.478790Z",
     "start_time": "2023-04-16T20:26:20.514140Z"
    }
   },
   "outputs": [
    {
     "name": "stdout",
     "output_type": "stream",
     "text": [
      "4.361323901680294\n"
     ]
    }
   ],
   "source": [
    "R2cv,R2 = KfoldCVlogisticReg(df, df['shortlist'], ['female_minority', 'dumCompSci', 'dumStats', 'GPA'], logisticRegFit, logisticRegPredict)\n",
    "R2cv_2,R2_2 = KfoldCVlogisticReg(df, df['shortlist'], ['female_minority'], logisticRegFit, logisticRegPredict) \n",
    "\n",
    "BF = R2cv-R2cv_2\n",
    "\n",
    "print(BF)"
   ]
  },
  {
   "cell_type": "markdown",
   "metadata": {},
   "source": [
    "There is strong evidence (BF = 4 > 3) for an effect of being a female and a member of a minority on the algorithms decision, after we account for undergrad_degree, and GPA according to the Kass & Raftery, 1995"
   ]
  },
  {
   "cell_type": "markdown",
   "metadata": {},
   "source": [
    "## Task 3: Regularized logistic regression (19pts)\n",
    "Because there are so many potential variables that could influence the algorithm's decision, you want to implement a L2-regularized version of logistic regression. \n",
    "Having taken Data Science 2000, you decide to do it the hard (and heroic) way, and write the code yourself. That way you can be sure your really know what is going on!"
   ]
  },
  {
   "cell_type": "markdown",
   "metadata": {},
   "source": [
    "### Question 3.1  (3pts)\n",
    "\n",
    "Z-standarize the variables GPA, age, gender (dummy coded), minority (dummy coded). \n",
    "\n",
    "Check that the variables have after standardization (approximately) a mean of 0 and a standard deviation of 1 by reporting the mean and standard deviations of one of the variables. "
   ]
  },
  {
   "cell_type": "code",
   "execution_count": 197,
   "metadata": {
    "ExecuteTime": {
     "end_time": "2023-04-16T20:28:59.172332Z",
     "start_time": "2023-04-16T20:28:59.141633Z"
    }
   },
   "outputs": [],
   "source": [
    "# Z-standardize the data\n",
    "def zstandardize(d):\n",
    "    d = (d-d.mean())/d.std()\n",
    "    return d\n",
    "\n",
    "df['ZGPA'] = zstandardize(df['GPA'])\n",
    "df['Zage'] = zstandardize(df['age'])\n",
    "df['ZdumGender'] = zstandardize(df['dumGender'])\n",
    "df['Zminority'] = zstandardize(df['minority'])"
   ]
  },
  {
   "cell_type": "code",
   "execution_count": 198,
   "metadata": {
    "ExecuteTime": {
     "end_time": "2023-04-16T20:29:00.164579Z",
     "start_time": "2023-04-16T20:29:00.115970Z"
    }
   },
   "outputs": [
    {
     "data": {
      "text/html": [
       "<div>\n",
       "<style scoped>\n",
       "    .dataframe tbody tr th:only-of-type {\n",
       "        vertical-align: middle;\n",
       "    }\n",
       "\n",
       "    .dataframe tbody tr th {\n",
       "        vertical-align: top;\n",
       "    }\n",
       "\n",
       "    .dataframe thead th {\n",
       "        text-align: right;\n",
       "    }\n",
       "</style>\n",
       "<table border=\"1\" class=\"dataframe\">\n",
       "  <thead>\n",
       "    <tr style=\"text-align: right;\">\n",
       "      <th></th>\n",
       "      <th>age</th>\n",
       "      <th>undergrad_degree</th>\n",
       "      <th>gender</th>\n",
       "      <th>minority</th>\n",
       "      <th>GPA</th>\n",
       "      <th>shortlist</th>\n",
       "      <th>female_minority</th>\n",
       "      <th>dumGender</th>\n",
       "      <th>dumCompSci</th>\n",
       "      <th>dumStats</th>\n",
       "      <th>ZGPA</th>\n",
       "      <th>Zage</th>\n",
       "      <th>ZdumGender</th>\n",
       "      <th>Zminority</th>\n",
       "    </tr>\n",
       "  </thead>\n",
       "  <tbody>\n",
       "    <tr>\n",
       "      <th>0</th>\n",
       "      <td>24</td>\n",
       "      <td>CompSci</td>\n",
       "      <td>female</td>\n",
       "      <td>1</td>\n",
       "      <td>3.73</td>\n",
       "      <td>1</td>\n",
       "      <td>1</td>\n",
       "      <td>0</td>\n",
       "      <td>1</td>\n",
       "      <td>0</td>\n",
       "      <td>1.159480</td>\n",
       "      <td>-1.583638</td>\n",
       "      <td>-1.039097</td>\n",
       "      <td>0.979869</td>\n",
       "    </tr>\n",
       "    <tr>\n",
       "      <th>1</th>\n",
       "      <td>31</td>\n",
       "      <td>DataSci</td>\n",
       "      <td>female</td>\n",
       "      <td>1</td>\n",
       "      <td>2.82</td>\n",
       "      <td>0</td>\n",
       "      <td>1</td>\n",
       "      <td>0</td>\n",
       "      <td>0</td>\n",
       "      <td>0</td>\n",
       "      <td>-0.795810</td>\n",
       "      <td>0.851658</td>\n",
       "      <td>-1.039097</td>\n",
       "      <td>0.979869</td>\n",
       "    </tr>\n",
       "    <tr>\n",
       "      <th>2</th>\n",
       "      <td>30</td>\n",
       "      <td>DataSci</td>\n",
       "      <td>female</td>\n",
       "      <td>1</td>\n",
       "      <td>1.83</td>\n",
       "      <td>0</td>\n",
       "      <td>1</td>\n",
       "      <td>0</td>\n",
       "      <td>0</td>\n",
       "      <td>0</td>\n",
       "      <td>-2.922994</td>\n",
       "      <td>0.503758</td>\n",
       "      <td>-1.039097</td>\n",
       "      <td>0.979869</td>\n",
       "    </tr>\n",
       "    <tr>\n",
       "      <th>3</th>\n",
       "      <td>28</td>\n",
       "      <td>DataSci</td>\n",
       "      <td>female</td>\n",
       "      <td>1</td>\n",
       "      <td>2.32</td>\n",
       "      <td>0</td>\n",
       "      <td>1</td>\n",
       "      <td>0</td>\n",
       "      <td>0</td>\n",
       "      <td>0</td>\n",
       "      <td>-1.870146</td>\n",
       "      <td>-0.192041</td>\n",
       "      <td>-1.039097</td>\n",
       "      <td>0.979869</td>\n",
       "    </tr>\n",
       "    <tr>\n",
       "      <th>4</th>\n",
       "      <td>28</td>\n",
       "      <td>CompSci</td>\n",
       "      <td>female</td>\n",
       "      <td>0</td>\n",
       "      <td>3.91</td>\n",
       "      <td>0</td>\n",
       "      <td>0</td>\n",
       "      <td>0</td>\n",
       "      <td>1</td>\n",
       "      <td>0</td>\n",
       "      <td>1.546241</td>\n",
       "      <td>-0.192041</td>\n",
       "      <td>-1.039097</td>\n",
       "      <td>-1.019864</td>\n",
       "    </tr>\n",
       "  </tbody>\n",
       "</table>\n",
       "</div>"
      ],
      "text/plain": [
       "   age undergrad_degree  gender  minority   GPA  shortlist  female_minority  \\\n",
       "0   24          CompSci  female         1  3.73          1                1   \n",
       "1   31          DataSci  female         1  2.82          0                1   \n",
       "2   30          DataSci  female         1  1.83          0                1   \n",
       "3   28          DataSci  female         1  2.32          0                1   \n",
       "4   28          CompSci  female         0  3.91          0                0   \n",
       "\n",
       "   dumGender  dumCompSci  dumStats      ZGPA      Zage  ZdumGender  Zminority  \n",
       "0          0           1         0  1.159480 -1.583638   -1.039097   0.979869  \n",
       "1          0           0         0 -0.795810  0.851658   -1.039097   0.979869  \n",
       "2          0           0         0 -2.922994  0.503758   -1.039097   0.979869  \n",
       "3          0           0         0 -1.870146 -0.192041   -1.039097   0.979869  \n",
       "4          0           1         0  1.546241 -0.192041   -1.039097  -1.019864  "
      ]
     },
     "execution_count": 198,
     "metadata": {},
     "output_type": "execute_result"
    }
   ],
   "source": [
    "df.head()"
   ]
  },
  {
   "cell_type": "markdown",
   "metadata": {},
   "source": [
    "### Question 3.2 (7pts)\n",
    "Change the loss function for logistic regression (i.e. see Assignment 11 solutions) to include L2-regularization.\n",
    "\n",
    "Regularize all regression coefficients except the intercept with a regularization coefficient of alpha = 0.1. \n",
    "Adjust the gradients accordingly.\n",
    "\n",
    "Calculate the loss and gradients for the regularized logistic regression model, using the variables: \n",
    "\n",
    "* Intercept \n",
    "* age (z-standardized)\n",
    "* GPA (z-standardized)\n",
    "* gender (dummy coded and z-standardized)\n",
    "* minority (dummy coded and z-standardized)\n",
    "\n",
    "\n",
    "Report the loss and gradient for the regularized model (alpha = 0.1) and compare it to the loss for the unregularized model for the parameters \n",
    "`b= [-0.5,0.2,0.3,-0.2,-0.2]`\n",
    "(these are the regression coefficients for [intercept, ageZ, GPAZ, genderZ, minorityZ])\n",
    "\n",
    "Written answer: \n",
    "   * Why does the regularized model have a higher loss than the non-regularized model?\n",
    "   * Which direction do you have to change the regression coefficient for the intercept to lower the loss? \n"
   ]
  },
  {
   "cell_type": "code",
   "execution_count": 258,
   "metadata": {
    "ExecuteTime": {
     "end_time": "2023-04-16T21:15:07.730769Z",
     "start_time": "2023-04-16T21:15:07.698104Z"
    }
   },
   "outputs": [],
   "source": [
    "def logisticRegLoss2(b, D, y, xname, alpha=0.1):\n",
    "    p = logisticRegPredict(b, D, xname)\n",
    "    \n",
    "    b = np.array(b)\n",
    "    \n",
    "    loss = - sum(y*np.log(p) + (1-y)*np.log(1 - p)) + alpha*sum(b[1:]**2)\n",
    "    \n",
    "    res = y - p\n",
    "    deriv = np.zeros(len(b))\n",
    "    deriv[0] = -(sum(res))\n",
    "    \n",
    "    for i in range(len(b) - 1):\n",
    "        deriv[i+1] = -np.sum(D[xname[i]]*res)+2*alpha*b[i+1]\n",
    "    \n",
    "    return loss, deriv"
   ]
  },
  {
   "cell_type": "code",
   "execution_count": 259,
   "metadata": {
    "ExecuteTime": {
     "end_time": "2023-04-16T21:15:08.456409Z",
     "start_time": "2023-04-16T21:15:08.415739Z"
    }
   },
   "outputs": [
    {
     "name": "stdout",
     "output_type": "stream",
     "text": [
      "The Loss is 911.21774\n",
      "The gradient is [175.8660282  -27.21512887  58.46714412 -95.08532749 -20.763689  ]\n"
     ]
    }
   ],
   "source": [
    "b = [-0.5,0.2,0.3,-0.2,-0.2]\n",
    "\n",
    "loss, grad = logisticRegLoss(b, df, df['shortlist'], ['Zage', 'ZGPA', 'ZdumGender', 'Zminority'])\n",
    "\n",
    "print(f'The Loss is {loss:.5f}')\n",
    "print(f'The gradient is {grad}')"
   ]
  },
  {
   "cell_type": "code",
   "execution_count": 260,
   "metadata": {
    "ExecuteTime": {
     "end_time": "2023-04-16T21:15:09.446472Z",
     "start_time": "2023-04-16T21:15:09.405878Z"
    }
   },
   "outputs": [
    {
     "name": "stdout",
     "output_type": "stream",
     "text": [
      "The Loss is 911.23874\n",
      "The gradient is [b0, b1,b2,b3,b4] = [175.8660282  -27.17512887  58.52714412 -95.12532749 -20.803689  ]\n"
     ]
    }
   ],
   "source": [
    "loss, grad = logisticRegLoss2(b, df, df['shortlist'], ['Zage', 'ZGPA', 'ZdumGender', 'Zminority'])\n",
    "\n",
    "print(f'The Loss is {loss:.5f}')\n",
    "print(f'The gradient is [b0, b1,b2,b3,b4] = {grad}')"
   ]
  },
  {
   "cell_type": "markdown",
   "metadata": {
    "ExecuteTime": {
     "end_time": "2023-04-16T20:37:28.134714Z",
     "start_time": "2023-04-16T20:37:28.085905Z"
    }
   },
   "source": [
    "The regularized model has a higher loss than the non-regularized model because it is calculating the fit and intially regularization is at a disadvantage. \n"
   ]
  },
  {
   "cell_type": "markdown",
   "metadata": {},
   "source": [
    "The parameters that need to increase are b1, b3, b4\n",
    "\n",
    "The parameters that need to decrease are b0, b2"
   ]
  },
  {
   "cell_type": "markdown",
   "metadata": {},
   "source": [
    "### Question 3.3 (9pts)\n",
    "Change the logisticRegFit from Assignment 10/11 to use regularization. \n",
    "Fit the the model from question Q3.2 (age, GPA, gender, minority), using L2 regularization with alpha = 0.1. \n",
    "\n",
    "The function should return the log-likelihood of the data given the model (*Hint: In this case this is not anymore equal to the negative loss!*) \n",
    "\n",
    "Compare the logliklihood and the parameters to the fit of the unregularized model.\n",
    "\n",
    "Written answer: What can you conclude from the comparison of the log-likelihood? Can you determine which model is better?\n",
    "\n",
    "Written answer: What is the difference between the regression coefficients of the regularized and unregularized model? How can you explain this difference?"
   ]
  },
  {
   "cell_type": "code",
   "execution_count": 261,
   "metadata": {
    "ExecuteTime": {
     "end_time": "2023-04-16T21:15:12.287445Z",
     "start_time": "2023-04-16T21:15:12.263310Z"
    }
   },
   "outputs": [],
   "source": [
    "\n",
    "def logisticRegFit2(D, y, xname, figure = True, b0=None):\n",
    "    \n",
    "    if b0 == None:\n",
    "        b0 = np.zeros(len(xname) + 1)\n",
    "        \n",
    "    mi = so.minimize(logisticRegLoss2, b0, args = (D, y, xname), jac = True)\n",
    "    loss, deriv = logisticRegLoss2(mi.x, D, y, xname)\n",
    "\n",
    "    if len(xname) == 1 and figure:\n",
    "        plt.scatter(D[xname[0]], y)\n",
    "        \n",
    "        yp = logisticRegPredict(mi.x, D, xname)\n",
    "        idx = np.argsort(D[xname[0]])\n",
    "        x_sorted = D[xname[0]][idx]\n",
    "        yp_sorted = yp[idx]\n",
    "\n",
    "        # Create a line plot of the predicted values\n",
    "        plt.plot(x_sorted, yp_sorted)\n",
    "        plt.scatter(D[xname[0]], yp)\n",
    "\n",
    "    return mi.x, loss"
   ]
  },
  {
   "cell_type": "code",
   "execution_count": 262,
   "metadata": {
    "ExecuteTime": {
     "end_time": "2023-04-16T21:15:13.573186Z",
     "start_time": "2023-04-16T21:15:12.911400Z"
    }
   },
   "outputs": [],
   "source": [
    "Parameters, Loss = logisticRegFit(df, df['shortlist'], ['age', 'GPA', 'dumGender', 'minority'])"
   ]
  },
  {
   "cell_type": "code",
   "execution_count": 273,
   "metadata": {
    "ExecuteTime": {
     "end_time": "2023-04-16T21:31:12.072855Z",
     "start_time": "2023-04-16T21:31:11.052787Z"
    }
   },
   "outputs": [],
   "source": [
    "Parameters2, Loss2 = logisticRegFit2(df, df['shortlist'], ['age', 'GPA', 'dumGender', 'minority'])"
   ]
  },
  {
   "cell_type": "code",
   "execution_count": 274,
   "metadata": {
    "ExecuteTime": {
     "end_time": "2023-04-16T21:31:14.498258Z",
     "start_time": "2023-04-16T21:31:14.475343Z"
    }
   },
   "outputs": [
    {
     "name": "stdout",
     "output_type": "stream",
     "text": [
      "non-regularized\n",
      "The Loss is 844.58312\n",
      "The parameters are [-5.40121975  0.11978132  0.31232647  0.20291992 -0.34427799]\n",
      "\n",
      "regularized\n",
      "The Loss is 844.61020\n",
      "The parameters are [-5.39727556  0.11975442  0.31129342  0.20234144 -0.34327807]\n",
      "\n",
      "The difference in parameters (nonReg-Reg):\n",
      "[-3.94418522e-03  2.69013499e-05  1.03305661e-03  5.78478846e-04\n",
      " -9.99925837e-04]\n"
     ]
    }
   ],
   "source": [
    "print('non-regularized')\n",
    "print(f'The Loss is {Loss:.5f}')\n",
    "print(f'The parameters are {Parameters}')\n",
    "print('\\nregularized')\n",
    "print(f'The Loss is {Loss2:.5f}')\n",
    "print(f'The parameters are {Parameters2}')\n",
    "\n",
    "print()\n",
    "print('The difference in parameters (nonReg-Reg):')\n",
    "print(np.array(Parameters)-np.array(Parameters2))"
   ]
  },
  {
   "cell_type": "markdown",
   "metadata": {},
   "source": [
    "Assuming this is the true fit, the non-regularized log regression model is better due to its lower loss score "
   ]
  },
  {
   "cell_type": "markdown",
   "metadata": {},
   "source": [
    "One can see that each function has two different functions, this is because the regularized one has to fit the data to reach 1 for the shortlist. Because the extra value is to counter alpha = 0.1. "
   ]
  },
  {
   "cell_type": "markdown",
   "metadata": {},
   "source": [
    "**Congrats: This is the end! You are done with the Final and Data Science 2000. This was a challenging course, and if you finished the final, you can be proud of yourself!**"
   ]
  }
 ],
 "metadata": {
  "hide_input": false,
  "kernelspec": {
   "display_name": "Python 3 (ipykernel)",
   "language": "python",
   "name": "python3"
  },
  "language_info": {
   "codemirror_mode": {
    "name": "ipython",
    "version": 3
   },
   "file_extension": ".py",
   "mimetype": "text/x-python",
   "name": "python",
   "nbconvert_exporter": "python",
   "pygments_lexer": "ipython3",
   "version": "3.9.15"
  },
  "varInspector": {
   "cols": {
    "lenName": 16,
    "lenType": 16,
    "lenVar": 40
   },
   "kernels_config": {
    "python": {
     "delete_cmd_postfix": "",
     "delete_cmd_prefix": "del ",
     "library": "var_list.py",
     "varRefreshCmd": "print(var_dic_list())"
    },
    "r": {
     "delete_cmd_postfix": ") ",
     "delete_cmd_prefix": "rm(",
     "library": "var_list.r",
     "varRefreshCmd": "cat(var_dic_list()) "
    }
   },
   "types_to_exclude": [
    "module",
    "function",
    "builtin_function_or_method",
    "instance",
    "_Feature"
   ],
   "window_display": false
  }
 },
 "nbformat": 4,
 "nbformat_minor": 2
}
