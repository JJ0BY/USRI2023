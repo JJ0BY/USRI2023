{
 "cells": [
  {
   "cell_type": "markdown",
   "metadata": {},
   "source": [
    "# IS2002B Final exam for 2021\n",
    "# YourUserID: xxxxxxxx\n",
    "## General \n",
    "The instruction for the final exam for IS2002B is included in this Jupyter Notebook. \n",
    "Some basic rules: \n",
    "- You are allowed to use any document and source and look up documents on the internet. \n",
    "- You or not allowed to share documents, or communicate in any other way with people during period of final. Given that there are students with extra time, this is until 6pm, 22nd of April.  \n",
    "- You are only allowed to use the python packages listed under \"preliminaries\" - the use of other regression (e.g., statsmodels) or machine learning toolboxes (e.g., sklearn) is not permitted. \n",
    "- All the code you are using from previous assignments or labs needs to be included in the notebook. \n",
    "- Most questions also require some written answer. The answer to these questions should be given in full English sentences. \n",
    "- All Figures should be appropriately labeled and should have a figure caption. \n",
    "- The Final exam needs to be submitted on OWL (Test + Quizzes) before 5pm. If you have approved accommodation, you need to submit after 3 hrs + your extra time after the start of the exam at 2pm. \n",
    "\n",
    "## Preliminaries"
   ]
  },
  {
   "cell_type": "code",
   "execution_count": 1,
   "metadata": {},
   "outputs": [],
   "source": [
    "import matplotlib\n",
    "import matplotlib.pyplot as plt \n",
    "import scipy.stats as ss\n",
    "import pandas as pd \n",
    "import numpy as np\n",
    "import scipy.optimize as so\n",
    "import seaborn as sb"
   ]
  },
  {
   "cell_type": "markdown",
   "metadata": {},
   "source": [
    "## Data set\n",
    "With growing challenges of congestion, excessive land use for parking, climate change, health-cost due to lack of exercise, and dying downtowns, cities across the world are looking towards finding ways of encouraging walking and cycling as alternative modes of transportation. How to achieve a sustainable change is a complex issue and a topic of extensive discussion in many North-American cities. The data set consists of daily counts of the number of bicycles at two selected locations on bike trails in Ottawa from January 2016- June 2020. The two locations are 08SOMO: Somerset bridge over O-Train and 10OGLD: O-Train Pathway just north of Galdstone Avenue. The csv-file (`bike_count.csv`) has the following columns: \n",
    "\n",
    "-year: Year of recording 2016-2020\n",
    "-month: Month running from January (1) to December (12)\n",
    "-day: Day of the week: Monday (0) to Sunday (6) \n",
    "-daysSince: Days since the begin of the data set (since 1/1/2016)\n",
    "-monthsSince: Month since the begin of the data set (since 1/1/2016)\n",
    "-place: Place of recording: 08SOMO ot 10OGLD. \n",
    "-bikecount: Number of bikes per day in both directions, assessed with automatic counter. Note that some counters are not very good, especially in the winter. \n",
    "\n",
    "Source and more information: \n",
    "https://open.ottawa.ca/datasets/bicycle-trip-counters\n",
    "\n"
   ]
  },
  {
   "cell_type": "markdown",
   "metadata": {},
   "source": [
    "# Task 1: Weekdays vs. Weekends (26pts)\n",
    "In the first task, we will look at the two locations of two bike counters and study if there is more weekend (recreational, shopping) or weekday (likely commuting) bike traffic. \n",
    "\n",
    "## Question 1.1 (2pts)\n",
    "Read the data set `bike_count.csv` into a pandas data frame. How many observations and how many variables do you have?  "
   ]
  },
  {
   "cell_type": "code",
   "execution_count": 2,
   "metadata": {},
   "outputs": [
    {
     "data": {
      "text/html": [
       "<div>\n",
       "<style scoped>\n",
       "    .dataframe tbody tr th:only-of-type {\n",
       "        vertical-align: middle;\n",
       "    }\n",
       "\n",
       "    .dataframe tbody tr th {\n",
       "        vertical-align: top;\n",
       "    }\n",
       "\n",
       "    .dataframe thead th {\n",
       "        text-align: right;\n",
       "    }\n",
       "</style>\n",
       "<table border=\"1\" class=\"dataframe\">\n",
       "  <thead>\n",
       "    <tr style=\"text-align: right;\">\n",
       "      <th></th>\n",
       "      <th>year</th>\n",
       "      <th>month</th>\n",
       "      <th>day</th>\n",
       "      <th>daysSince</th>\n",
       "      <th>monthsSince</th>\n",
       "      <th>place</th>\n",
       "      <th>bikecount</th>\n",
       "    </tr>\n",
       "  </thead>\n",
       "  <tbody>\n",
       "    <tr>\n",
       "      <th>0</th>\n",
       "      <td>2016</td>\n",
       "      <td>1</td>\n",
       "      <td>4</td>\n",
       "      <td>0</td>\n",
       "      <td>1</td>\n",
       "      <td>08SOMO</td>\n",
       "      <td>4</td>\n",
       "    </tr>\n",
       "    <tr>\n",
       "      <th>1</th>\n",
       "      <td>2016</td>\n",
       "      <td>1</td>\n",
       "      <td>5</td>\n",
       "      <td>1</td>\n",
       "      <td>1</td>\n",
       "      <td>08SOMO</td>\n",
       "      <td>8</td>\n",
       "    </tr>\n",
       "    <tr>\n",
       "      <th>2</th>\n",
       "      <td>2016</td>\n",
       "      <td>1</td>\n",
       "      <td>6</td>\n",
       "      <td>2</td>\n",
       "      <td>1</td>\n",
       "      <td>08SOMO</td>\n",
       "      <td>4</td>\n",
       "    </tr>\n",
       "    <tr>\n",
       "      <th>3</th>\n",
       "      <td>2016</td>\n",
       "      <td>1</td>\n",
       "      <td>0</td>\n",
       "      <td>3</td>\n",
       "      <td>1</td>\n",
       "      <td>08SOMO</td>\n",
       "      <td>16</td>\n",
       "    </tr>\n",
       "    <tr>\n",
       "      <th>4</th>\n",
       "      <td>2016</td>\n",
       "      <td>1</td>\n",
       "      <td>1</td>\n",
       "      <td>4</td>\n",
       "      <td>1</td>\n",
       "      <td>08SOMO</td>\n",
       "      <td>70</td>\n",
       "    </tr>\n",
       "    <tr>\n",
       "      <th>...</th>\n",
       "      <td>...</td>\n",
       "      <td>...</td>\n",
       "      <td>...</td>\n",
       "      <td>...</td>\n",
       "      <td>...</td>\n",
       "      <td>...</td>\n",
       "      <td>...</td>\n",
       "    </tr>\n",
       "    <tr>\n",
       "      <th>3281</th>\n",
       "      <td>2020</td>\n",
       "      <td>6</td>\n",
       "      <td>4</td>\n",
       "      <td>1638</td>\n",
       "      <td>54</td>\n",
       "      <td>10OGLD</td>\n",
       "      <td>1494</td>\n",
       "    </tr>\n",
       "    <tr>\n",
       "      <th>3282</th>\n",
       "      <td>2020</td>\n",
       "      <td>6</td>\n",
       "      <td>5</td>\n",
       "      <td>1639</td>\n",
       "      <td>54</td>\n",
       "      <td>10OGLD</td>\n",
       "      <td>1082</td>\n",
       "    </tr>\n",
       "    <tr>\n",
       "      <th>3283</th>\n",
       "      <td>2020</td>\n",
       "      <td>6</td>\n",
       "      <td>6</td>\n",
       "      <td>1640</td>\n",
       "      <td>54</td>\n",
       "      <td>10OGLD</td>\n",
       "      <td>1541</td>\n",
       "    </tr>\n",
       "    <tr>\n",
       "      <th>3284</th>\n",
       "      <td>2020</td>\n",
       "      <td>6</td>\n",
       "      <td>0</td>\n",
       "      <td>1641</td>\n",
       "      <td>54</td>\n",
       "      <td>10OGLD</td>\n",
       "      <td>1120</td>\n",
       "    </tr>\n",
       "    <tr>\n",
       "      <th>3285</th>\n",
       "      <td>2020</td>\n",
       "      <td>6</td>\n",
       "      <td>1</td>\n",
       "      <td>1642</td>\n",
       "      <td>54</td>\n",
       "      <td>10OGLD</td>\n",
       "      <td>1308</td>\n",
       "    </tr>\n",
       "  </tbody>\n",
       "</table>\n",
       "<p>3286 rows × 7 columns</p>\n",
       "</div>"
      ],
      "text/plain": [
       "      year  month  day  daysSince  monthsSince   place  bikecount\n",
       "0     2016      1    4          0            1  08SOMO          4\n",
       "1     2016      1    5          1            1  08SOMO          8\n",
       "2     2016      1    6          2            1  08SOMO          4\n",
       "3     2016      1    0          3            1  08SOMO         16\n",
       "4     2016      1    1          4            1  08SOMO         70\n",
       "...    ...    ...  ...        ...          ...     ...        ...\n",
       "3281  2020      6    4       1638           54  10OGLD       1494\n",
       "3282  2020      6    5       1639           54  10OGLD       1082\n",
       "3283  2020      6    6       1640           54  10OGLD       1541\n",
       "3284  2020      6    0       1641           54  10OGLD       1120\n",
       "3285  2020      6    1       1642           54  10OGLD       1308\n",
       "\n",
       "[3286 rows x 7 columns]"
      ]
     },
     "execution_count": 2,
     "metadata": {},
     "output_type": "execute_result"
    }
   ],
   "source": [
    "D=pd.read_csv('bike_count.csv') \n",
    "D"
   ]
  },
  {
   "cell_type": "markdown",
   "metadata": {},
   "source": [
    "There are 3286 observations involving 7 variables. "
   ]
  },
  {
   "cell_type": "markdown",
   "metadata": {},
   "source": [
    "##  Question 1.2 (4pts)\n",
    "Generate a bar plot of the average bicycle count as a function of the day of week (on the x-axis). Present separate bars for the two locations. Written answer: What weekday-weekend effect do you see? Does it seem to be consistent for both locations? "
   ]
  },
  {
   "cell_type": "code",
   "execution_count": 3,
   "metadata": {},
   "outputs": [
    {
     "data": {
      "text/plain": [
       "<AxesSubplot:xlabel='day', ylabel='bikecount'>"
      ]
     },
     "execution_count": 3,
     "metadata": {},
     "output_type": "execute_result"
    },
    {
     "data": {
      "image/png": "[encoded data removed]",
      "text/plain": [
       "<Figure size 432x288 with 1 Axes>"
      ]
     },
     "metadata": {
      "needs_background": "light"
     },
     "output_type": "display_data"
    }
   ],
   "source": [
    "sb.barplot(data=D,x='day',y='bikecount',hue='place') # Graph (2pts) "
   ]
  },
  {
   "cell_type": "markdown",
   "metadata": {},
   "source": [
    "Written answer:\n",
    "Weekend counts are somewhat lower than weekday counts (1pt)-  suggesting that a lot of the bikes are regular commuters. The effect seems to be present for both places (1pt). "
   ]
  },
  {
   "cell_type": "markdown",
   "metadata": {},
   "source": [
    "##  Question 1.3 (3 pts)\n",
    "Introduce a dummy coded variable that encodes whether the day is a weekend day (day==5 or day==6) vs. a week day (day between 0-4). Then define a dummy coded variable for place of the bike counter with \"08SOMO\" as the comparison and \"10OGLD\" as the coded group.\n",
    "\n",
    "Remake the barplot using the two dummy-coded variables. Plot the place on the x-axis and present separate bars for the weekday and weekend counts."
   ]
  },
  {
   "cell_type": "code",
   "execution_count": 4,
   "metadata": {},
   "outputs": [
    {
     "data": {
      "text/plain": [
       "<AxesSubplot:xlabel='place', ylabel='bikecount'>"
      ]
     },
     "execution_count": 4,
     "metadata": {},
     "output_type": "execute_result"
    },
    {
     "data": {
      "image/png": "[encoded data removed]",
      "text/plain": [
       "<Figure size 432x288 with 1 Axes>"
      ]
     },
     "metadata": {
      "needs_background": "light"
     },
     "output_type": "display_data"
    }
   ],
   "source": [
    "D['weekend']=np.double(D.day>4)  # 1 pt\n",
    "D['placeD']=np.double(D.place==\"10OGLD\") # 1pt\n",
    "sb.barplot(data=D,x='place',y='bikecount',hue='weekend') # 1 pt"
   ]
  },
  {
   "cell_type": "markdown",
   "metadata": {},
   "source": [
    "##  Question 1.4 (5pts)\n",
    "Which location has the larger difference between weekday and weekend traffic? Generate a table of the means and medians for the two locations and the weekend / weekday counts. In a written answer, report the \"weekend effect\" for the two locations, using both means and medians. Which locations has the larger difference (in means / medians)? \n",
    "\n",
    "\n",
    "*Hint: to make a 2x2 table with means and medians you can use groupby as in assignment 2 or use this variation:\n",
    "https://jamesrledoux.com/code/group-by-aggregate-pandas*"
   ]
  },
  {
   "cell_type": "code",
   "execution_count": 5,
   "metadata": {},
   "outputs": [
    {
     "name": "stdout",
     "output_type": "stream",
     "text": [
      "                 bikecount       \n",
      "                      mean median\n",
      "place  weekend                   \n",
      "08SOMO 0.0      520.828936    400\n",
      "       1.0      430.534188    281\n",
      "10OGLD 0.0      600.414468    468\n",
      "       1.0      530.767094    301\n"
     ]
    }
   ],
   "source": [
    "# report mean and medians (2pts)\n",
    "A=D.groupby(['place','weekend']).agg({'bikecount':['mean','median']})\n",
    "print(A)"
   ]
  },
  {
   "cell_type": "code",
   "execution_count": 6,
   "metadata": {},
   "outputs": [
    {
     "name": "stdout",
     "output_type": "stream",
     "text": [
      "Mean weekend effect for 08SOMO: 90.295\n",
      "Mean weekend effect for 10OGLD: 69.647\n",
      "Median weekend effect for 08SOMO: 119.000\n",
      "Median weekend effect for 10OGLD: 167.000\n"
     ]
    }
   ],
   "source": [
    "# report difference (2pts)\n",
    "\n",
    "print(f'Mean weekend effect for 08SOMO: {A.iloc[0,0]-A.iloc[1,0]:.3f}')\n",
    "print(f'Mean weekend effect for 10OGLD: {A.iloc[2,0]-A.iloc[3,0]:.3f}')\n",
    "print(f'Median weekend effect for 08SOMO: {A.iloc[0,1]-A.iloc[1,1]:.3f}')\n",
    "print(f'Median weekend effect for 10OGLD: {A.iloc[2,1]-A.iloc[3,1]:.3f}')\n"
   ]
  },
  {
   "cell_type": "markdown",
   "metadata": {},
   "source": [
    "Written answer: OGLD has the larger weekend effect in medians, SOMO in means (1pt)"
   ]
  },
  {
   "cell_type": "markdown",
   "metadata": {},
   "source": [
    "## Question 1.5 (5pts)\n",
    "As you will see from Question 1.4, looking at the mean counts and the median counts gives quite different answers. Which analysis would you trust more? To answer this, look at the distribution of the bike counts. Written answer: What characteristic of the distribution makes the means or medians a better description of central tendency? "
   ]
  },
  {
   "cell_type": "code",
   "execution_count": 7,
   "metadata": {},
   "outputs": [
    {
     "data": {
      "text/plain": [
       "<AxesSubplot:xlabel='bikecount'>"
      ]
     },
     "execution_count": 7,
     "metadata": {},
     "output_type": "execute_result"
    },
    {
     "data": {
      "image/png": "[encoded data removed]",
      "text/plain": [
       "<Figure size 432x288 with 1 Axes>"
      ]
     },
     "metadata": {
      "needs_background": "light"
     },
     "output_type": "display_data"
    }
   ],
   "source": [
    "sb.distplot(D.bikecount)"
   ]
  },
  {
   "cell_type": "markdown",
   "metadata": {},
   "source": [
    "Written answer: The distribution is highly right-skewed (2pts), Given this, the median is likely a better descriptor of the typical bike count. (3pts)"
   ]
  },
  {
   "cell_type": "markdown",
   "metadata": {},
   "source": [
    "##  Question 1.6 (7pts)\n",
    "How would you statistical test the hypothesis that the **difference in median bike counts for weekend and weekdays is different between the two measured places**? Note that the hypothesis does not state anything about whether there is a overall difference between weekend and weekday (or which direction it is), or whether there is a overall difference between the two places. Rather it says that the weekday-weekend difference in medians is different between the two places. \n",
    "\n",
    "- formulate the corresponding Null-hypothesis\n",
    "- choose between a randomization test, parameter-based inference (bootstrap) or model-based inference. There is likely a correct way of doing this with each of these approaches, but each requires some thinking and a slightly different approach of what we have done so far in class. \n",
    "- for your chosen method, describe exactly step-by-step what your algorithm does and by which rule you obtain the final judgment of significance. Describe exactly how you are randomizing, sampling, etc. If you use a model (or models), describe all included terms and the loss function.  "
   ]
  },
  {
   "cell_type": "markdown",
   "metadata": {},
   "source": [
    "Null hypothesis: the difference in the median weekday- median weekend bikecounts is the same for the two locations. (2pts) \n",
    "\n",
    "Different solutions are possible: (5pts)\n",
    "- Randomization test: Tricky, as full randomization would destroy the existing differences between locations and between weekend-weekday. So only partial (2pts) points for full randomization.  \n",
    "- Parameter based inference 1: Fir a model with the weekend-dummy, placeD-dummy model, and the interaction term (weekend * placeD). Use the absolute deviation cost function. Do a bootstrap and see if the CI for the last parameter includes 0. \n",
    "- Alternatively, make a dummy variable for a weekend at place 08SOMO and a separate dummy variable for a weekend at place 10OGDL. Fir a model with both these parameters and the placeD dummy. Do a bootstrap and get the difference between the first two parameters. Construct a CI on this. \n",
    "- Model based inference 1: Fit a model with the weekend-dummy, placeD-dummy model. Compare this to a model that also includes the interaction term (weekend * placeD) using cross-validation. If the more complex fits better, there seems to be a reliable difference. "
   ]
  },
  {
   "cell_type": "markdown",
   "metadata": {},
   "source": [
    "# Task 2: Modelling seasonal change in bike usage (38pts)\n",
    "## Question 2.1 (2pts)\n",
    "Generate a lineplot of the bike count, with two separate lines for the two places. Is the seasonal trend roughly the same across the two places? "
   ]
  },
  {
   "cell_type": "code",
   "execution_count": 8,
   "metadata": {},
   "outputs": [
    {
     "data": {
      "text/plain": [
       "<AxesSubplot:xlabel='month', ylabel='bikecount'>"
      ]
     },
     "execution_count": 8,
     "metadata": {},
     "output_type": "execute_result"
    },
    {
     "data": {
      "image/png": "[encoded data removed]",
      "text/plain": [
       "<Figure size 432x288 with 1 Axes>"
      ]
     },
     "metadata": {
      "needs_background": "light"
     },
     "output_type": "display_data"
    }
   ],
   "source": [
    "sb.lineplot(data=D,x='month',y='bikecount',hue='place') # 1pt"
   ]
  },
  {
   "cell_type": "markdown",
   "metadata": {},
   "source": [
    "Yes - the seasonal trend seems to be roughly the same. (1pt)"
   ]
  },
  {
   "cell_type": "markdown",
   "metadata": {},
   "source": [
    "## Question 2.2 (10pts)\n",
    "Fit a quadratic polynomial regression model to the bike-counts: \n",
    "\n",
    "$$bikecount = b_0 + b_1 * month + b_2 * month^2$$\n",
    "\n",
    "To make subsequent questions easier for you, add a new column to your dataframe and implement this model using the multRegFit function (you get partial points when using you polynomial regression function). Use the residual-sum-of-squares (RSS) loss function.\n",
    " \n",
    "Make a line plot of bike counts against the month of the year. Superimpose the fitted prediction from the model. \n",
    "\n",
    "Written answer: What is the $R^2$ of the fit? For which month do you see the largest residual? "
   ]
  },
  {
   "cell_type": "code",
   "execution_count": 9,
   "metadata": {},
   "outputs": [],
   "source": [
    "\n",
    "def multRegPredict(b,D,xname):\n",
    "    yp=np.ones(len(D.index))*b[0]        # Intercept \n",
    "    for i in range(len(xname)):          \n",
    "        yp=yp+D[xname[i]]*b[i+1]         # Add each regression value \n",
    "    return yp \n",
    "\n",
    "def multRegLossRSS(b,D,y,xname):\n",
    "    predY = multRegPredict(b,D,xname)\n",
    "    res = y-predY\n",
    "    rss = sum(res**2)\n",
    "    grad=np.zeros(len(b))\n",
    "    grad[0]=-2*np.sum(res)\n",
    "    for i in range(len(xname)):\n",
    "        grad[i+1]=-2*np.sum(D[xname[i]]*res)\n",
    "    return (rss,grad)\n",
    "\n",
    "def multRegFit(D,y,xname,figure=0,b0=[]):\n",
    "    k=len(xname)+1\n",
    "    if (len(b0)!=k):\n",
    "        b0=np.zeros((k,1))\n",
    "    RES = so.minimize(multRegLossRSS,b0,args=(D,y,xname),jac=True)\n",
    "    b=RES.x # Results\n",
    "    res = y-np.mean(y)\n",
    "    TSS = sum(res**2)\n",
    "    RSS,deriv = multRegLossRSS(b,D,y,xname)\n",
    "    R2 = 1-RSS/TSS \n",
    "    if (k==2 and figure==1):\n",
    "        fig = plt.figure()\n",
    "        ax = fig.add_subplot(1,1,1)\n",
    "        ax.scatter(D[xname[0]],y)\n",
    "        xRange=[min(D[xname[0]]),max(D[xname[0]])]\n",
    "        xp=np.arange(xRange[0],xRange[1],(xRange[1]-xRange[0])/50)\n",
    "        yp=b[0]+b[1]*xp\n",
    "        ax.plot(xp,yp,'r-')\n",
    "        ax.spines['top'].set_visible(False)\n",
    "        ax.spines['right'].set_visible(False)\n",
    "    return (R2,b)\n"
   ]
  },
  {
   "cell_type": "code",
   "execution_count": 10,
   "metadata": {},
   "outputs": [],
   "source": [
    "D['month2']=np.double(D.month**2) # 3pts \n",
    "R2,b = multRegFit(D,D.bikecount,['month','month2']) # 2 pts "
   ]
  },
  {
   "cell_type": "code",
   "execution_count": 11,
   "metadata": {},
   "outputs": [
    {
     "data": {
      "text/plain": [
       "0.4243016944824868"
      ]
     },
     "execution_count": 11,
     "metadata": {},
     "output_type": "execute_result"
    },
    {
     "data": {
      "image/png": "[encoded data removed]",
      "text/plain": [
       "<Figure size 432x288 with 1 Axes>"
      ]
     },
     "metadata": {
      "needs_background": "light"
     },
     "output_type": "display_data"
    }
   ],
   "source": [
    "# Calculate predicted values (3pts)\n",
    "m = np.arange(0.0,12.0,1)+1\n",
    "yp = b[0] + b[1]*m + b[2]*(m**2)\n",
    "\n",
    "# Provide plot (1pt)\n",
    "sb.lineplot(data=D,x='month',y='bikecount')\n",
    "plt.plot(m,yp)\n",
    "\n",
    "# Report R2 (1pt)\n",
    "R2"
   ]
  },
  {
   "cell_type": "markdown",
   "metadata": {},
   "source": [
    "Written answer: The R2 of the model is 0.42 - so only a 42 percent of the variance is fitted.  The largest residual is for the month of March. "
   ]
  },
  {
   "cell_type": "markdown",
   "metadata": {},
   "source": [
    "## Question 2.3 (6pts)\n",
    "If you got the model fit correct, you should see a negative predicted value for the bike count for January (month 1).\n",
    "\n",
    "**Written answer:** \n",
    "- Report the exact predicted value for this month (month = 1)? \n",
    "- What are possible problems with having the model giving a negative predictive value?\n",
    "- Describe a way by which you could modify your model to prevent it from **ever** giving negative predicted values? \n",
    "- Which of the three functions(multRegPredict, multRegLossRSS, multRegFit) would you have to change and how? "
   ]
  },
  {
   "cell_type": "code",
   "execution_count": 12,
   "metadata": {},
   "outputs": [
    {
     "data": {
      "text/plain": [
       "-155.56709554835393"
      ]
     },
     "execution_count": 12,
     "metadata": {},
     "output_type": "execute_result"
    }
   ],
   "source": [
    "b[0] + b[1]*1 + b[2]*1"
   ]
  },
  {
   "cell_type": "markdown",
   "metadata": {},
   "source": [
    "Written answer: \n",
    "- The predicted value for January is -155.5 (1pt)\n",
    "- Negative counts are not possible, so predicting negative values will lead to a worse prediction and fit. Also, a negative does not make sense to the user that may want to make decisions based on the predicted value. (one of them 1pt)\n",
    "- a) You could change the prediction function to return 0 if the negative value is negative b) You could use a exponential of the multiple regression output $exp(b_0 + b_1 * x_1 + ...)$ so that all predicted values are positive. (2pts for either solution)\n",
    "- multRegPredict would need to be changed to reflect the above change. The Loss calculation would stay the same, but in the function the derivatives would have to be changed. No changes are necessary to multRegFit (unless changing the name of the loss function if necessary). (2pts) \n"
   ]
  },
  {
   "cell_type": "markdown",
   "metadata": {},
   "source": [
    "## Question 2.4: Periodic Model  (10pts)\n",
    "Instead of a quadratic polynomial, implement a model based on periodic variations over the year, using the 2 trigonometric functions. \n",
    "\n",
    "$$bikecount = b_0 + b_1 \\sin(2\\pi month/12) + b_2 \\cos(2\\pi month/12)$$\n",
    "\n",
    "Fit the model and plot the model prediction on top of the data as in Question 2.2. \n",
    "\n",
    "Written answer:\n",
    "- Report the fitted $R^2$ value for this model and compare to the value you got in question 2.3. Can you fairly compare the two models using the fitted (rather than the cross-validated) $R^2$? \n",
    "- Does this model ensure that none of the predicted values would get negative? \n",
    "\n",
    "\n",
    "*Hint: this is easiest using your multRegFit function by simply adding the appropriate columns to your data frame*\n",
    "\n",
    "*Hint: Sine and cosine functions are available as numpy-functions np.sin and np.cos*\n"
   ]
  },
  {
   "cell_type": "code",
   "execution_count": 21,
   "metadata": {},
   "outputs": [
    {
     "data": {
      "text/plain": [
       "0.5089978648039912"
      ]
     },
     "execution_count": 21,
     "metadata": {},
     "output_type": "execute_result"
    },
    {
     "data": {
      "image/png": "[encoded data removed]",
      "text/plain": [
       "<Figure size 432x288 with 1 Axes>"
      ]
     },
     "metadata": {
      "needs_background": "light"
     },
     "output_type": "display_data"
    }
   ],
   "source": [
    "D['monthSin']=np.sin(D.month/12*2*np.pi) # 1 pt\n",
    "D['monthCos']=np.cos(D.month/12*2*np.pi) # 1 pt\n",
    "R2,b = multRegFit(D,D.bikecount,['monthSin','monthCos']) # 1 pt\n",
    "\n",
    "# Caluclate predicted value (3pt)\n",
    "m = np.arange(0.0,12.0,1)+1\n",
    "PD = pd.DataFrame({'month':m,'monthSin':np.sin(m/12*2*np.pi),'monthCos':np.cos(m/12*2*np.pi)})\n",
    "yp = multRegPredict(b,PD,['monthSin','monthCos'])\n",
    "\n",
    "# Plot correctly with overlay (1pt)\n",
    "sb.lineplot(data=D,x='month',y='bikecount')\n",
    "plt.plot(m,yp)\n",
    "R2"
   ]
  },
  {
   "cell_type": "markdown",
   "metadata": {},
   "source": [
    "Written answer: \n",
    "- The fitted $R^2$ is higher for this model than for the quadratic model. It is a fair comparison, because both models have the same number of parameters. ) (1pt)\n",
    "- No, for specific sets of parameters the model could make negative predictions. However, the specific fit observed has only positive predictions. (2pt) "
   ]
  },
  {
   "cell_type": "markdown",
   "metadata": {},
   "source": [
    "##  Question 2.5 (10pts)\n",
    "Now we want to evaluate the two models by their ability to predict the data year-to-year. To do this, program a leave-one-**year** out crossvalidation routine. That is, for each of the 5 cross-validation folds, training should be on 4 of the 5 available years ([2016,2017,2018,2019,2020]), and testing on the data from the remaining year. \n",
    "\n",
    "Using your routine, cross-validate the quadratic model (Question2.2) and periodic model (Question2.4). \n",
    "\n",
    "Written answer: In predicting the bike counts for a different year, which model would be preferable?  \n",
    "\n",
    "*Hint: It maybe useful to start with the function `KfoldCVmultReg` from Assignment 11, Q.2.1* \n",
    "\n",
    "*Hint: To do this efficiently, make sure that you have all necessary variables and transforms coded in your dataframe. Pass the terms that you want to use in your model to the CV function as args.*\n",
    "\n",
    "*Hint: If you have trouble getting your function to work, run the models using 5-fold crossvalidation (using the original `KfoldCVmultReg` from Assignment 11, Q.2.1). This will give you at least partial points.*  "
   ]
  },
  {
   "cell_type": "code",
   "execution_count": 14,
   "metadata": {},
   "outputs": [
    {
     "name": "stdout",
     "output_type": "stream",
     "text": [
      "Quadratic Model: 0.391 0.424\n",
      "Periodic Model: 0.465 0.509\n"
     ]
    }
   ],
   "source": [
    "# Providing working function 4pts + 1 pts for flexible input argument args\n",
    "def LOYOCV(D,y,args=(),fitfcn=multRegFit,predictfcn=multRegPredict):\n",
    "    N = len(y) #Number of observations\n",
    "    yp= np.zeros(N)\n",
    "    \n",
    "    # Get overall model fit \n",
    "    R2,b_all=fitfcn(D,y,args)\n",
    "\n",
    "    # Loop over the crossvalidation folds \n",
    "    for year in [2016,2017,2018,2019,2020]:\n",
    "        trainIndx = D.year!=year\n",
    "        testIndx = D.year==year\n",
    "        r,b=fitfcn(D[trainIndx],y[trainIndx],args,b0=b_all,figure=0)\n",
    "        yp[testIndx]=predictfcn(b,D[testIndx],args)\n",
    "        \n",
    "    # Calculate crossvalidated model fit \n",
    "    TSS  = sum((y-y.mean())**2)\n",
    "    RSScv = sum((y-yp)**2)\n",
    "    R2cv = 1-RSScv/TSS\n",
    "    return R2cv,R2 \n",
    "\n",
    "# Caluclate and report for quadratic 2pts\n",
    "R2cv,R2 = LOYOCV(D,D.bikecount,args=['month','month2'])\n",
    "print(f'Quadratic Model: {R2cv:.3f} {R2:.3f}')\n",
    "\n",
    "# Caluclate and report for periodic 2pts\n",
    "R2cv2,R22 = LOYOCV(D,D.bikecount,args=['monthSin','monthCos']) \n",
    "print(f'Periodic Model: {R2cv2:.3f} {R22:.3f}') \n"
   ]
  },
  {
   "cell_type": "markdown",
   "metadata": {},
   "source": [
    "Written answer: The periodic model provides a better prediction for the monthly change. (1pt)"
   ]
  },
  {
   "cell_type": "markdown",
   "metadata": {},
   "source": [
    "# Task 3: Year-to-year change in bike use"
   ]
  },
  {
   "cell_type": "markdown",
   "metadata": {},
   "source": [
    "## Question 3.1 (10 pts)\n",
    "A fellow data scientist working has the same data set as you and has submitted the following report. \n"
   ]
  },
  {
   "attachments": {
    "image.png": {
     "image/png": "[encoded data removed]"
    }
   },
   "cell_type": "markdown",
   "metadata": {},
   "source": [
    "**Experiment failed: Bike lanes only temporary encourage biking.** \n",
    "\n",
    "In 2016, the City of Ottawa decided to conduct an $40M *experiment*. They constructed a 15km network of bike lanes, with the goal to increase bike traffic to and from downtown. The construction was finished in the end of 2017 and bike lanes were opened early in 2018. The city meticulously counted bike traffic at two critical locations of the main bike trail leading to downtown. As can be seem from the figure below, number of bike trips per day showed a modest increase to slightly more than an average of 600 per day. From this we can clearly conclude that the construction of the bike network *caused* an increase of bike traffic *in all of Ottawa*. However, by 2020, the average number of bike trips had already reduced again to *below the level of 2016*. Thus, *constructing more bike lanes increases bicycle use in cities for a brief period only*.   ![image.png](attachment:image.png)"
   ]
  },
  {
   "cell_type": "markdown",
   "metadata": {},
   "source": [
    "Written answer: Criticize the above report in terms of the way the data scientist uses the available evidence to construct an argument. Focus on the words / phrases that are highlighted in *italics*. For each of these phrases, state to what degree this statement is justified, and / or why the statement is wrong / why one would need to be careful with arriving at such a conclusion. Think about causal claims, generalization, and confounding variables. For each point you raise, sketch out how the study or report would need to be fixed to address the problem.  \n"
   ]
  },
  {
   "cell_type": "markdown",
   "metadata": {},
   "source": [
    "Written answer: \n",
    "- Even though the construction of a bike network is an intervention, it does not constitute an experiment, as the timing / location of the construction was not randomized. Of course conducting a real experiment with many repetition would be quite hard.  (2pts)\n",
    "- Therefore, statements that the bike network construction has *caused* the increase cannot be made. It could be true that other changes (confounding variables) caused the change from 2016/2017. (2pts)\n",
    "- We can not generalize to *all of Ottawa*,as bike traffic was only tracked in two specific locations. It is not clear that the locations are representative of all of Ottawa. We may have a biased (but definitely very small sample). Complete or random observations would be better. (2pts)\n",
    "- It is technically true that the reported bike counts in 2020 are *below the level of 2016*. However no measure of significance is provided. A randomization test would be useful here. (2pts) \n",
    "- The decrease of bike trips in 2020 can be explained by two confounding factors a) the pandemic (not clear if this should be increase or decrease) b) the fact that only data until end of June is reported. For b) see the uncounfounding done in Question 3.4. (2pts)"
   ]
  },
  {
   "cell_type": "markdown",
   "metadata": {},
   "source": [
    "## Question 3.2 (4pts)\n",
    "One important confounding factor for the year-by-year analysis is the fact that the data for 2020 is only from January-June, whereas all the other years have 12 month of data. \n",
    "To visualize the effect, first make a line plot of the bike count against the month since beginning of the study (`monthsSince`). \n",
    "\n",
    "Written answer: Given this, do you think the incomplete data for 2020 has biased the year-by-year graph in Question 3.1? If yes in which direction? "
   ]
  },
  {
   "cell_type": "code",
   "execution_count": 22,
   "metadata": {},
   "outputs": [
    {
     "data": {
      "text/plain": [
       "<AxesSubplot:xlabel='monthsSince', ylabel='bikecount'>"
      ]
     },
     "execution_count": 22,
     "metadata": {},
     "output_type": "execute_result"
    },
    {
     "data": {
      "image/png": "[encoded data removed]",
      "text/plain": [
       "<Figure size 432x288 with 1 Axes>"
      ]
     },
     "metadata": {
      "needs_background": "light"
     },
     "output_type": "display_data"
    }
   ],
   "source": [
    "sb.lineplot(data=D,x='monthsSince',y='bikecount') # 2pts"
   ]
  },
  {
   "cell_type": "markdown",
   "metadata": {},
   "source": [
    "The bike counts each year reach the highest level June - October, so the bike counts for 2020 could be underestimated, as it includes only one of the high-bike-use month.  (2pts)"
   ]
  },
  {
   "cell_type": "markdown",
   "metadata": {},
   "source": [
    "## Question 3.3 (8pts)\n",
    "To account for this possible confounding influence, we will build a model that captures the year-by-year change, accounting for he seasonal change in bike use. For Question 3.3, first build a multiple regression mode that captures the year-by-year change using dummy-coded variables for `year`. Use 2016 as your comparison group. \n",
    "Written answer: Report the regression coefficients of the fitted model and interpret the meaning of them, relating them to the means reported in the Figure provided in Question 3.1"
   ]
  },
  {
   "cell_type": "code",
   "execution_count": 16,
   "metadata": {},
   "outputs": [
    {
     "data": {
      "text/plain": [
       "array([518.04781421, -21.67932106,  94.16177483,  43.40561045,\n",
       "       -53.71814388])"
      ]
     },
     "execution_count": 16,
     "metadata": {},
     "output_type": "execute_result"
    }
   ],
   "source": [
    "# Correct dummy coding 3pts\n",
    "D['Dummy17']=np.double(D.year==2017)\n",
    "D['Dummy18']=np.double(D.year==2018)\n",
    "D['Dummy19']=np.double(D.year==2019)\n",
    "D['Dummy20']=np.double(D.year==2020)\n",
    "\n",
    "# Correct model (1pt)\n",
    "R2,b = multRegFit(D,D.bikecount,['Dummy17','Dummy18','Dummy19','Dummy20'])\n",
    "b"
   ]
  },
  {
   "cell_type": "markdown",
   "metadata": {},
   "source": [
    "The intercept models the mean count for 2016. The dummy coded variables code for the difference between each subsequent year and 2016. Thus, we have a 54 bikes / day decrease from 2016 to 2020. (4pts) "
   ]
  },
  {
   "cell_type": "markdown",
   "metadata": {},
   "source": [
    "## Question 3.4  (4pts)\n",
    "How does your estimate of the 2020-to-2016 difference change when you account for the seasonal trend in bike usage (considering that the data for 2016 in from Jan-Dec and for 2020 from Jan-Jun)? Report the corrected estimate.   \n",
    "\n",
    "*Hint: You can do this by taking your model from Question 3.3 and adding the regressors you defined in Question 2.4 to the model, namely $\\sin(2\\pi*month/12)$ and $\\cos(2\\pi*month/12)$. "
   ]
  },
  {
   "cell_type": "code",
   "execution_count": 17,
   "metadata": {},
   "outputs": [
    {
     "data": {
      "text/plain": [
       "array([ 559.96528188,  -66.28397581,   49.55712008,   -1.19904431,\n",
       "         25.31079724, -310.28626021, -428.84370414])"
      ]
     },
     "execution_count": 17,
     "metadata": {},
     "output_type": "execute_result"
    }
   ],
   "source": [
    "R2,b = multRegFit(D,D.bikecount,['Dummy17','Dummy18','Dummy19','Dummy20','monthSin','monthCos']) # 2 pts\n",
    "b"
   ]
  },
  {
   "cell_type": "markdown",
   "metadata": {},
   "source": [
    "Written answer: Accounting for the time of year, the predicted mean for 2020 is 25 counts per day higher than 2016. So instead of a decrease, there is actually a small increase.  (2pts)"
   ]
  },
  {
   "cell_type": "markdown",
   "metadata": {},
   "source": [
    "## Question 3.5 (10pts)\n",
    "How confident are you about your estimate of the corrected 2020-2016 and 2018-to-2016 difference? Conduct a bootstrap analysis with 500 bootstrap samples to provide a estimate of confidence interval for the 2020-to-2016 difference and and the 2018-2016 difference in the context of the corrected model from Question 3.4. \n",
    "\n",
    "Written answer: Write 2-3 revised conclusion sentences that correct the report provided in Question 3.1 "
   ]
  },
  {
   "cell_type": "code",
   "execution_count": 18,
   "metadata": {},
   "outputs": [],
   "source": [
    "def bootstrapReg(D,y,args,fitfcn,numIter=100):\n",
    "    r2, b=fitfcn(D,y,args)\n",
    "    numParams=len(b)\n",
    "    N = len(D.index) # number of data points\n",
    "    ind  = np.arange(N) # a numpy array containing the indices\n",
    "    stats = np.zeros((numIter,numParams)) # preallocating the np array for parameters (each column will be the distribution for a parameter)\n",
    "    for i in range(numIter):\n",
    "        sample = np.random.choice(ind,N) # sampling with replacement\n",
    "        r2 , stats[i, :]=fitfcn(D.iloc[sample],y[sample],args)\n",
    "    return stats\n",
    "\n",
    "def confidenceInt(data,perc):\n",
    "    Int=(np.percentile(data,(100-perc)/2),np.percentile(data,100-(100-perc)/2))\n",
    "    return Int"
   ]
  },
  {
   "cell_type": "code",
   "execution_count": 19,
   "metadata": {},
   "outputs": [],
   "source": [
    "# Picking the correct model (3pts) and coducting bootstrap (2pts)\n",
    "args = ['Dummy17','Dummy18','Dummy19','Dummy20','monthSin','monthCos']\n",
    "params = bootstrapReg(D,D['bikecount'],args,multRegFit,numIter=100)"
   ]
  },
  {
   "cell_type": "code",
   "execution_count": 20,
   "metadata": {},
   "outputs": [
    {
     "name": "stdout",
     "output_type": "stream",
     "text": [
      "The confidence interval for the 2016-2020 change is 16.8-87.3\n",
      "The confidence interval for the 2016-2020 change is -11.8-72.8\n"
     ]
    }
   ],
   "source": [
    "# Get the corresponding beta-coefficient for CIs (3pts)\n",
    "ci18 = confidenceInt(params[:,2],95)\n",
    "ci20 = confidenceInt(params[:,4],95)\n",
    "print(f'The confidence interval for the 2016-2020 change is {ci18[0]:.1f}-{ci18[1]:.1f}')\n",
    "print(f'The confidence interval for the 2016-2020 change is {ci20[0]:.1f}-{ci20[1]:.1f}')"
   ]
  },
  {
   "cell_type": "markdown",
   "metadata": {},
   "source": [
    "Written answer: Corrected for the time of year of the recordings, the bike count changed positively from 2016 to 2020. Although there was also a modest increase of bike counts from 2016 to 2020, this change was not significant. (2pts)"
   ]
  }
 ],
 "metadata": {
  "hide_input": false,
  "kernelspec": {
   "display_name": "Python 3 (ipykernel)",
   "language": "python",
   "name": "python3"
  },
  "language_info": {
   "codemirror_mode": {
    "name": "ipython",
    "version": 3
   },
   "file_extension": ".py",
   "mimetype": "text/x-python",
   "name": "python",
   "nbconvert_exporter": "python",
   "pygments_lexer": "ipython3",
   "version": "3.10.9"
  },
  "varInspector": {
   "cols": {
    "lenName": 16,
    "lenType": 16,
    "lenVar": 40
   },
   "kernels_config": {
    "python": {
     "delete_cmd_postfix": "",
     "delete_cmd_prefix": "del ",
     "library": "var_list.py",
     "varRefreshCmd": "print(var_dic_list())"
    },
    "r": {
     "delete_cmd_postfix": ") ",
     "delete_cmd_prefix": "rm(",
     "library": "var_list.r",
     "varRefreshCmd": "cat(var_dic_list()) "
    }
   },
   "types_to_exclude": [
    "module",
    "function",
    "builtin_function_or_method",
    "instance",
    "_Feature"
   ],
   "window_display": false
  }
 },
 "nbformat": 4,
 "nbformat_minor": 4
}
