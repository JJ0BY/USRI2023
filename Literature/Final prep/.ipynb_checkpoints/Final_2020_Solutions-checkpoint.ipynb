{
 "cells": [
  {
   "cell_type": "markdown",
   "metadata": {},
   "source": [
    "# Final Take-home exam\n",
    "# YourUserID: xxxxxxxx\n",
    "## General \n",
    "The instruction for the final exam for IS2002B is included in this Jupyter Notebook. \n",
    "Some basic rules: \n",
    "- You are allowed to use any document and source on your computer and look up documents on the internet. \n",
    "- You or not allowed to share documents, or communicate in any other way with people about the final during the 24hr period of the take home final. \n",
    "- You are only allowed to use the packages listed under \"preliminaries\" - the use of other regression or machine learning toolboxes is not permitted. \n",
    "- All the code you are using from previous Assignments or Labs need to be included in the notebook. \n",
    "- All questions also require some written answer. The answer to these questions should be given in full English sentences. \n",
    "- All Figures should be appropriately labeled and should have a figure caption. \n",
    "- The Final exam needs to be submitted on OWL (Test + Quizzes) within 4 hrs of the time you first assessed this document.\n",
    "\n",
    "## Preliminaries"
   ]
  },
  {
   "cell_type": "code",
   "execution_count": 12,
   "metadata": {},
   "outputs": [],
   "source": [
    "import matplotlib\n",
    "matplotlib.use('TkAgg')\n",
    "import matplotlib.pyplot as plt \n",
    "%matplotlib inline\n",
    "import scipy.stats as ss\n",
    "import pandas as pd \n",
    "import numpy as np\n",
    "import scipy.optimize as so\n",
    "import seaborn as sb\n",
    "import statsmodels.formula.api as smf"
   ]
  },
  {
   "cell_type": "code",
   "execution_count": 13,
   "metadata": {},
   "outputs": [],
   "source": [
    "def simpleRegPredict(b,x):\n",
    "    yp=b[0]+b[1]*x\n",
    "    return yp \n",
    "\n",
    "def simpleRegLossRSS(b,x,y):\n",
    "    predY = simpleRegPredict(b,x)\n",
    "    res = y-predY\n",
    "    rss = sum(res**2)\n",
    "    deriv = np.zeros(2)\n",
    "    deriv[0]=-2*sum(res)\n",
    "    deriv[1]=-2*sum(res*x)\n",
    "    return (rss,deriv)\n",
    "\n",
    "def simpleRegLossSAD(b,x,y):\n",
    "    predY = simpleRegPredict(b,x)\n",
    "    res = y-predY\n",
    "    sad = sum(res.abs())\n",
    "    deriv = np.zeros(2)\n",
    "    deriv[0]=-sum(np.sign(res))\n",
    "    deriv[1]=-sum(np.sign(res)*x)\n",
    "    return (sad,deriv)\n",
    "\n",
    "def plotPrediction(b,x,y,predfcn):\n",
    "    fig = plt.figure()\n",
    "    ax = fig.add_subplot(1,1,1)\n",
    "    ax.scatter(x,y)\n",
    "    xp = np.linspace(min(x),max(x),num=50)\n",
    "    yp = predfcn(b,xp)\n",
    "    ax.plot(xp,yp,'r')\n",
    "    \n",
    "def simpleRegFit(x,y,lossFcn=simpleRegLossRSS):\n",
    "    b0=[np.mean(y),0]\n",
    "    RES = so.minimize(lossFcn,b0,args=(x,y),jac=True)\n",
    "    b=RES.x # Results\n",
    "    plotPrediction(b,x,y,simpleRegPredict)\n",
    "    res = y-np.mean(y)\n",
    "    TSS = sum(res**2)\n",
    "    RSS,grad = simpleRegLossRSS(b,x,y)\n",
    "    R2 = 1-RSS/TSS \n",
    "    return (R2,b)\n",
    "\n",
    "def addPrediction(b,x,predFunc,ax,linestyle='r:'):\n",
    "    xrange = max(x)-min(x)\n",
    "    xp = np.linspace(min(x)-xrange/30,max(x)+xrange/30,num=50)\n",
    "    yp = predFunc(b,xp)\n",
    "    ax.plot(xp,yp,linestyle)\n",
    "    return(ax)\n",
    "    \n",
    "\n",
    "\n",
    "def multRegPredict(b,D,xname):\n",
    "    yp=np.ones(len(D.index))*b[0]        # Intercept \n",
    "    for i in range(len(xname)):          \n",
    "        yp=yp+D[xname[i]]*b[i+1]         # Add each regression value \n",
    "    return yp \n",
    "\n",
    "def multRegLossRSS(b,D,y,xname):\n",
    "    predY = multRegPredict(b,D,xname)\n",
    "    res = y-predY\n",
    "    rss = sum(res**2)\n",
    "    grad=np.zeros(len(b))\n",
    "    grad[0]=-2*np.sum(res)\n",
    "    for i in range(len(xname)):\n",
    "        grad[i+1]=-2*np.sum(D[xname[i]]*res)\n",
    "    return (rss,grad)\n",
    "\n",
    "def multRegFit(D,y,xname):\n",
    "    N=len(xname)\n",
    "    b0=np.zeros((N+1,1))\n",
    "    RES = so.minimize(multRegLossRSS,b0,args=(D,y,xname),jac=True)\n",
    "    if (not(RES.success)):\n",
    "        print('unsuccessful fit')\n",
    "        print(RES)\n",
    "    b=RES.x # Results\n",
    "    res = y-np.mean(y)\n",
    "    TSS = sum(res**2)\n",
    "    RSS,deriv = multRegLossRSS(b,D,y,xname)\n",
    "    R2 = 1-RSS/TSS \n",
    "    return (b,R2)\n",
    "\n",
    "def smMultReg(df,yname,xform):\n",
    "    formula = yname + ' ~ ' + xform \n",
    "    # call the statsmodels and fit the model\n",
    "    model_fit = smf.ols(formula, data = df).fit()\n",
    "\n",
    "    # get the parameters and convert it to numpy array\n",
    "    #print(type(model_fit.params))\n",
    "    coefs = np.array(model_fit.params)\n",
    "    #print(coefs[1]) # for debugging\n",
    "    \n",
    "    #print(model_fit.summary()) # for debugging\n",
    "    # R2\n",
    "    yp = model_fit.predict(D)\n",
    "    y= D[yname]\n",
    "    RSS = np.sum((y - yp)**2)\n",
    "    TSS = np.sum((y - y.mean())**2)\n",
    "    R2= 1- RSS/TSS\n",
    "    R2\n",
    "    return coefs, R2\n",
    "\n",
    "def leaveOneOutCV(D,yname,xform):\n",
    "    formula = yname + ' ~ ' + xform \n",
    "    N = len(D[yname]) #Number of observations \n",
    "    yp= np.zeros(N)\n",
    "    ind = np.arange(N)\n",
    "    #print(ind)\n",
    "    for i in range(N):\n",
    "        #print(type(df.loc[ind!=i]))\n",
    "        model=smf.ols(formula,data=D.loc[ind!=i]).fit()\n",
    "        yp[i]=model.predict(D.loc[ind==i])\n",
    "        \n",
    "    y = D[yname]\n",
    "    TSS  = sum((y-y.mean())**2)\n",
    "    RSS = sum((y-yp)**2)\n",
    "    R2cv = 1-RSS/TSS\n",
    "    return R2cv\n",
    "\n",
    "def bootstrapReg(df,yname,xform,fitfcn=smMultReg,numIter=500):\n",
    "    b, R2=fitfcn(df,yname, xform)\n",
    "    numParams=len(b)\n",
    "    N     = len(df.index)\n",
    "    ind   = np.arange(N)\n",
    "    stats = np.zeros((numIter,numParams))\n",
    "    for i in range(numIter):\n",
    "        sample = np.random.choice(ind,N)\n",
    "        stats[i,:], R2 = fitfcn(df.iloc[sample],yname, xform)\n",
    "    return stats\n",
    "\n",
    "def confidenceInt(data,perc):\n",
    "    Int=(np.percentile(data,(100-perc)/2),np.percentile(data,100-(100-perc)/2))\n",
    "    return Int"
   ]
  },
  {
   "cell_type": "markdown",
   "metadata": {},
   "source": [
    "## Data set\n",
    "\n",
    "The data frame contains the total number of confirmed Covid-19 infections, number of recovered cases, and number death as of April 12th, across 96 countries. It also contains some basic socio-economic data from these countries. \n",
    "- Country: Name of the country \n",
    "- Continent: Asia, Europe, Africa, Australia, AmericaN, AmericaS. Middle American countries are counted as North \n",
    "- Tests: Total number of COVID-19 tests conducted. Countries where the number is not reported are labeled with 'NaN' (not-a-number)\n",
    "- Density: Population density (people / km^2)\n",
    "- UrbanPop: Percentage of people living in an Urban environment\n",
    "- Restrictions: Social distancing restrictions in place (incomplete) \n",
    "- HospitalBed: Number of Hospital beds per 1000 inhabitants \n",
    "- Lung: Prevalence of chronic lung diseases (per 100,000)  \n",
    "- MedianAge: Median Age of the population \n",
    "- GDP2018: Gross Domestic Product in US Dollars \n",
    "- CrimeIndex: Composite index from surveys about perceived crime. (0: lowest crime 100: highest crime)  \n",
    "- Population2020: Population size (in units of 1000 people) \n",
    "- Smoking2016: Percentage of population that is smoking\n",
    "- TotalInfected: Total number of confirmed COVID-19 cases, April 12th\n",
    "- TotalDeath: Total number of COVID-19 death, April 12th\n",
    "- TotalRecovered: Total number of fully recovered COVID-19 cases"
   ]
  },
  {
   "cell_type": "markdown",
   "metadata": {},
   "source": [
    "## Task 1: Infection rate (40 pts)\n",
    "In this task we are looking at infection rate across different countries. \n",
    "### Question 1 (3ts) \n",
    "Load the data set 'covid19_by_country.csv'. How many observations do you have? \n",
    "For how many countries do you have the numbers of Tests reported? Hint: you can determine whether a number is a 'NaN' using the function `np.isnan`.  "
   ]
  },
  {
   "cell_type": "code",
   "execution_count": 14,
   "metadata": {},
   "outputs": [
    {
     "data": {
      "text/plain": [
       "49"
      ]
     },
     "execution_count": 14,
     "metadata": {},
     "output_type": "execute_result"
    }
   ],
   "source": [
    "D = pd.read_csv('covid19_by_country.csv')\n",
    "D2 = D.loc[np.isnan(D['Tests'])]\n",
    "len(D2.index)"
   ]
  },
  {
   "cell_type": "markdown",
   "metadata": {},
   "source": [
    "### Question 2  (6pts)\n",
    "To calculate the infection rate, we need to normalize the number of TotalInfected by the population of the country (Population2020). Make a new column in the data frame, called 'InfectionRate', that codes for the number of COVID19 cases per 1000 people.\n",
    "Plot a histogram of the distribution. \n",
    "\n",
    "Written answer: How would you characterize the distribution in terms of modality and skew? "
   ]
  },
  {
   "cell_type": "code",
   "execution_count": 15,
   "metadata": {},
   "outputs": [
    {
     "data": {
      "text/plain": [
       "<matplotlib.axes._subplots.AxesSubplot at 0x7f3218864890>"
      ]
     },
     "execution_count": 15,
     "metadata": {},
     "output_type": "execute_result"
    },
    {
     "data": {
      "image/png": "[encoded data removed]",
      "text/plain": [
       "<Figure size 432x288 with 1 Axes>"
      ]
     },
     "metadata": {
      "needs_background": "light"
     },
     "output_type": "display_data"
    }
   ],
   "source": [
    "D['InfectionRate']= D.TotalInfected/D.Population2020\n",
    "sb.distplot(D.InfectionRate,kde=None)"
   ]
  },
  {
   "cell_type": "markdown",
   "metadata": {},
   "source": [
    "* Histogram of COVID19 infection rate across 96 countries. "
   ]
  },
  {
   "cell_type": "markdown",
   "metadata": {},
   "source": [
    "*New variable correctly calculate (2pt)\n",
    "Figure + Caption (2pts)*\n",
    "\n",
    "Infection rate is a strongly right-skewed distribution (1pt). Although the two observations of 5 cases / 1000 are outlying, the distribution is best described as unimodal. (1pt)\n"
   ]
  },
  {
   "cell_type": "markdown",
   "metadata": {},
   "source": [
    "### Question 3 (5pts)\n",
    "Let's look at how to explain the differences in the Infection rates. \n",
    "\n",
    "First, let's consider how wealthy different countries are. For this, first use the variables GDP2018 (total GDP in $) and Population2020 (total population in 1000) to calculate the GDP per person. Assign it to a new column in the Data Frame. Make a scatterplot of GDP per person (x-axis) and Infection Rate (y-axis). \n",
    "\n",
    "Written answer: What relationship do you observe? Give at least 2 possible reasons that could explain such a relationship. \n"
   ]
  },
  {
   "cell_type": "code",
   "execution_count": 16,
   "metadata": {},
   "outputs": [
    {
     "data": {
      "text/plain": [
       "<matplotlib.axes._subplots.AxesSubplot at 0x7f321868d490>"
      ]
     },
     "execution_count": 16,
     "metadata": {},
     "output_type": "execute_result"
    },
    {
     "data": {
      "image/png": "[encoded data removed]",
      "text/plain": [
       "<Figure size 432x288 with 1 Axes>"
      ]
     },
     "metadata": {
      "needs_background": "light"
     },
     "output_type": "display_data"
    }
   ],
   "source": [
    "D['GDPpp']= D.GDP2018/D.Population2020/1000 \n",
    "sb.scatterplot(D.GDPpp,D.InfectionRate)"
   ]
  },
  {
   "cell_type": "markdown",
   "metadata": {},
   "source": [
    "Scatterplot of GDP per person and Infection rate (per 1000) people. "
   ]
  },
  {
   "cell_type": "markdown",
   "metadata": {},
   "source": [
    "*New variable correctly calculate (1pt)\n",
    "Figure + Caption (1pts)*\n",
    "\n",
    "There is a positive relationship (1pt), Possible reasons: (2pts total) \n",
    "- Higher GDP, more travel and chance to import the virus from China \n",
    "- Higher GDP is associate with more urban population, which helps the virus spread \n",
    "- Europe and North America are harder hit, which also coincidentally higher GDP. Relationship is indirect.  \n",
    "- Richer Countries test mode - therefore have higher case numbers"
   ]
  },
  {
   "cell_type": "markdown",
   "metadata": {},
   "source": [
    "### Question 4 (5pts)\n",
    "Fit a simple linear regression model, explaining Infection rate by the GDP per person. \n",
    "Report the R2 value of the fit. \n",
    "\n",
    "Then plot the data and the prediction line. Don't forget the Figure caption. "
   ]
  },
  {
   "cell_type": "code",
   "execution_count": 17,
   "metadata": {},
   "outputs": [
    {
     "name": "stdout",
     "output_type": "stream",
     "text": [
      "R2: 0.5691853524422479\n"
     ]
    },
    {
     "data": {
      "text/plain": [
       "[<matplotlib.lines.Line2D at 0x7f321866ff90>]"
      ]
     },
     "execution_count": 17,
     "metadata": {},
     "output_type": "execute_result"
    },
    {
     "data": {
      "image/png": "[encoded data removed]",
      "text/plain": [
       "<Figure size 432x288 with 1 Axes>"
      ]
     },
     "metadata": {
      "needs_background": "light"
     },
     "output_type": "display_data"
    }
   ],
   "source": [
    "b,R2 = multRegFit(D,D.InfectionRate,['GDPpp'])\n",
    "print('R2:', R2)\n",
    "sb.scatterplot(D.GDPpp,D.InfectionRate)\n",
    "x = np.linspace(0,100000,20)\n",
    "y = b[0]+b[1]*x\n",
    "plt.plot(x,y)"
   ]
  },
  {
   "cell_type": "markdown",
   "metadata": {},
   "source": [
    "### Question 5 (6pts)\n",
    "Calculate the residuals of the fit from Question 4. Identify and list the countries that have a residual of more than 1 case/1000, i.e. countries that lie way above the line. \n",
    "\n",
    "Written answer: What do all these countries have in common? "
   ]
  },
  {
   "cell_type": "code",
   "execution_count": 18,
   "metadata": {},
   "outputs": [
    {
     "data": {
      "text/html": [
       "<div>\n",
       "<style scoped>\n",
       "    .dataframe tbody tr th:only-of-type {\n",
       "        vertical-align: middle;\n",
       "    }\n",
       "\n",
       "    .dataframe tbody tr th {\n",
       "        vertical-align: top;\n",
       "    }\n",
       "\n",
       "    .dataframe thead th {\n",
       "        text-align: right;\n",
       "    }\n",
       "</style>\n",
       "<table border=\"1\" class=\"dataframe\">\n",
       "  <thead>\n",
       "    <tr style=\"text-align: right;\">\n",
       "      <th></th>\n",
       "      <th>Country</th>\n",
       "      <th>Continent</th>\n",
       "      <th>Tests</th>\n",
       "      <th>Density</th>\n",
       "      <th>UrbanPop</th>\n",
       "      <th>Restrictions</th>\n",
       "      <th>HospitalBed</th>\n",
       "      <th>Lung</th>\n",
       "      <th>MedianAge</th>\n",
       "      <th>GDP2018</th>\n",
       "      <th>CrimeIndex</th>\n",
       "      <th>Population2020</th>\n",
       "      <th>Smoking2016</th>\n",
       "      <th>TotalInfected</th>\n",
       "      <th>TotalDeaths</th>\n",
       "      <th>TotalRecovered</th>\n",
       "      <th>InfectionRate</th>\n",
       "      <th>GDPpp</th>\n",
       "    </tr>\n",
       "  </thead>\n",
       "  <tbody>\n",
       "    <tr>\n",
       "      <td>10</td>\n",
       "      <td>Belgium</td>\n",
       "      <td>Europe</td>\n",
       "      <td>4225.0</td>\n",
       "      <td>383</td>\n",
       "      <td>98</td>\n",
       "      <td>1</td>\n",
       "      <td>6.2</td>\n",
       "      <td>27.11</td>\n",
       "      <td>41.4</td>\n",
       "      <td>5.430000e+11</td>\n",
       "      <td>42.50</td>\n",
       "      <td>11589.623</td>\n",
       "      <td>28.2</td>\n",
       "      <td>29647</td>\n",
       "      <td>3600</td>\n",
       "      <td>6463</td>\n",
       "      <td>2.558064</td>\n",
       "      <td>46852.257403</td>\n",
       "    </tr>\n",
       "    <tr>\n",
       "      <td>37</td>\n",
       "      <td>Iceland</td>\n",
       "      <td>Europe</td>\n",
       "      <td>2278.0</td>\n",
       "      <td>3</td>\n",
       "      <td>94</td>\n",
       "      <td>0</td>\n",
       "      <td>3.2</td>\n",
       "      <td>19.71</td>\n",
       "      <td>36.5</td>\n",
       "      <td>2.587848e+10</td>\n",
       "      <td>23.15</td>\n",
       "      <td>341.243</td>\n",
       "      <td>14.7</td>\n",
       "      <td>1701</td>\n",
       "      <td>8</td>\n",
       "      <td>889</td>\n",
       "      <td>4.984718</td>\n",
       "      <td>75835.916810</td>\n",
       "    </tr>\n",
       "    <tr>\n",
       "      <td>42</td>\n",
       "      <td>Italy</td>\n",
       "      <td>Europe</td>\n",
       "      <td>148657.0</td>\n",
       "      <td>206</td>\n",
       "      <td>69</td>\n",
       "      <td>1</td>\n",
       "      <td>3.4</td>\n",
       "      <td>17.00</td>\n",
       "      <td>45.5</td>\n",
       "      <td>2.080000e+12</td>\n",
       "      <td>44.35</td>\n",
       "      <td>60461.826</td>\n",
       "      <td>23.7</td>\n",
       "      <td>156363</td>\n",
       "      <td>19899</td>\n",
       "      <td>34211</td>\n",
       "      <td>2.586144</td>\n",
       "      <td>34401.872018</td>\n",
       "    </tr>\n",
       "    <tr>\n",
       "      <td>52</td>\n",
       "      <td>Luxembourg</td>\n",
       "      <td>Europe</td>\n",
       "      <td>NaN</td>\n",
       "      <td>242</td>\n",
       "      <td>88</td>\n",
       "      <td>0</td>\n",
       "      <td>4.8</td>\n",
       "      <td>20.52</td>\n",
       "      <td>39.3</td>\n",
       "      <td>7.088533e+10</td>\n",
       "      <td>30.17</td>\n",
       "      <td>625.978</td>\n",
       "      <td>23.5</td>\n",
       "      <td>3281</td>\n",
       "      <td>66</td>\n",
       "      <td>500</td>\n",
       "      <td>5.241398</td>\n",
       "      <td>113239.324518</td>\n",
       "    </tr>\n",
       "    <tr>\n",
       "      <td>82</td>\n",
       "      <td>Spain</td>\n",
       "      <td>Europe</td>\n",
       "      <td>NaN</td>\n",
       "      <td>94</td>\n",
       "      <td>80</td>\n",
       "      <td>1</td>\n",
       "      <td>3.0</td>\n",
       "      <td>16.37</td>\n",
       "      <td>42.7</td>\n",
       "      <td>1.420000e+12</td>\n",
       "      <td>31.07</td>\n",
       "      <td>46754.778</td>\n",
       "      <td>29.3</td>\n",
       "      <td>166831</td>\n",
       "      <td>17209</td>\n",
       "      <td>62391</td>\n",
       "      <td>3.568213</td>\n",
       "      <td>30371.227514</td>\n",
       "    </tr>\n",
       "  </tbody>\n",
       "</table>\n",
       "</div>"
      ],
      "text/plain": [
       "       Country Continent     Tests  Density  UrbanPop  Restrictions  \\\n",
       "10     Belgium    Europe    4225.0      383        98             1   \n",
       "37     Iceland    Europe    2278.0        3        94             0   \n",
       "42       Italy    Europe  148657.0      206        69             1   \n",
       "52  Luxembourg    Europe       NaN      242        88             0   \n",
       "82       Spain    Europe       NaN       94        80             1   \n",
       "\n",
       "    HospitalBed   Lung  MedianAge       GDP2018  CrimeIndex  Population2020  \\\n",
       "10          6.2  27.11       41.4  5.430000e+11       42.50       11589.623   \n",
       "37          3.2  19.71       36.5  2.587848e+10       23.15         341.243   \n",
       "42          3.4  17.00       45.5  2.080000e+12       44.35       60461.826   \n",
       "52          4.8  20.52       39.3  7.088533e+10       30.17         625.978   \n",
       "82          3.0  16.37       42.7  1.420000e+12       31.07       46754.778   \n",
       "\n",
       "    Smoking2016  TotalInfected  TotalDeaths  TotalRecovered  InfectionRate  \\\n",
       "10         28.2          29647         3600            6463       2.558064   \n",
       "37         14.7           1701            8             889       4.984718   \n",
       "42         23.7         156363        19899           34211       2.586144   \n",
       "52         23.5           3281           66             500       5.241398   \n",
       "82         29.3         166831        17209           62391       3.568213   \n",
       "\n",
       "            GDPpp  \n",
       "10   46852.257403  \n",
       "37   75835.916810  \n",
       "42   34401.872018  \n",
       "52  113239.324518  \n",
       "82   30371.227514  "
      ]
     },
     "execution_count": 18,
     "metadata": {},
     "output_type": "execute_result"
    }
   ],
   "source": [
    "res = D.InfectionRate-b[0]-b[1]*D.GDPpp\n",
    "D[res>1]"
   ]
  },
  {
   "cell_type": "markdown",
   "metadata": {},
   "source": [
    "*Calculate residuals correctly (2pts)* \n",
    "*Find the right countries (2pts)*  \n",
    "\n",
    "All the 5 countries that have residuals > 1 are in Europe. (2pts)"
   ]
  },
  {
   "cell_type": "markdown",
   "metadata": {},
   "source": [
    "### Question 6 (8pts)\n",
    "Let's investigate whether the relationship between GDP per person and infection rate still holds when we account for the geographical region. \n",
    "* First, make a dummy-coded variable that indicates whether the country is in Europe or not (using variable Continent)\n",
    "* Second, restrict the data to European and North American countries. *Hint: If you want a vector of True/False values that indicates whether a column in the data frame (D.col) equals A OR B, you can use  `np.logical_or(D.col==A,D.col==B)`*\n",
    "* Using this restricted data, fit a regression model, using the dummy-coded variable (Europe vs. N. America) and GDP per person as regressors. \n",
    "* Make a scatterplot of GDP per person against infection rates, with different color dots for European and North American countries. In the same plot, add seperate regression lines for North America and Europe from the model that you fit."
   ]
  },
  {
   "cell_type": "code",
   "execution_count": 20,
   "metadata": {},
   "outputs": [
    {
     "name": "stdout",
     "output_type": "stream",
     "text": [
      "R2 is 0.59\n"
     ]
    },
    {
     "data": {
      "image/png": "[encoded data removed]",
      "text/plain": [
       "<Figure size 432x288 with 1 Axes>"
      ]
     },
     "metadata": {
      "needs_background": "light"
     },
     "output_type": "display_data"
    }
   ],
   "source": [
    "D['isEurope']=np.double(D.Continent==\"Europe\")\n",
    "R=D[np.logical_or(D.Continent=='Europe',D.Continent=='AmericaN')]\n",
    "# Rp = D.loc[(D.Continent=='Europe') | (D.Continent=='AmericaN')]\n",
    "plt.scatter(D2.GDPpp[D2.isEurope==0],D2.InfectionRate[D2.isEurope==0])\n",
    "plt.scatter(D2.GDPpp[D2.isEurope==1],D2.InfectionRate[D2.isEurope==1])\n",
    "b,R2=smMultReg(R,'InfectionRate','isEurope + GDPpp')\n",
    "yp = multRegPredict(b,D2,['isEurope','GDPpp'])\n",
    "plt.plot(D2.GDPpp[D2.isEurope==0],yp[D2.isEurope==0],'b-')\n",
    "plt.plot(R.GDPpp[D2.isEurope==1],yp[D2.isEurope==1],'r-')\n",
    "plt.xlabel('GDP per person ($)')\n",
    "plt.ylabel('Infection Rate')\n",
    "print(\"R2 is {0:3.2f}\".format(R2))"
   ]
  },
  {
   "cell_type": "markdown",
   "metadata": {},
   "source": [
    "*Grading: \n",
    "* Dummy coding (2pts)\n",
    "* Restriction (2pts)\n",
    "* Fit correct regression (2pts)\n",
    "* Plot, prediction and caption (2pts)"
   ]
  },
  {
   "cell_type": "markdown",
   "metadata": {},
   "source": [
    "### Question 7 (7pts)\n",
    "Use Bootstrap analysis to determine whether the relationship between GDP per person and Infection rate is significant when we account for whether the country is North American or European. Again, limit the analysis to North-American and European countries only.\n",
    "\n",
    "Tip: Because the regression weights for GDP are so small, you may have to multiply the Beta coefficient by 10000 when you inspect your confidence interval with rounding. \n",
    "\n",
    "Written answer: What do you conclude from the bootstrap in terms of the significance of a relationship between GDP and ? What claims can you make? "
   ]
  },
  {
   "cell_type": "code",
   "execution_count": 21,
   "metadata": {},
   "outputs": [
    {
     "name": "stdout",
     "output_type": "stream",
     "text": [
      "Confidence interval for influence of Continent 0.06-0.71\n",
      "Confidence interval for influence of GDP 0.225-0.458\n"
     ]
    }
   ],
   "source": [
    "B=bootstrapReg(D2,'InfectionRate','isEurope + GDPpp',smMultReg)\n",
    "Int1=confidenceInt(B[:,1],95)\n",
    "Int2=confidenceInt(B[:,2]*10000,95)\n",
    "print(\"Confidence interval for influence of Continent {0:3.2f}-{1:3.2f}\".format(Int1[0],Int1[1]))\n",
    "print(\"Confidence interval for influence of GDP {0:3.3f}-{1:3.3f}\".format(Int2[0],Int2[1]))"
   ]
  },
  {
   "cell_type": "markdown",
   "metadata": {},
   "source": [
    "*Grading Bootstrap 3pts, Confidence Int 2pts)*\n",
    "\n",
    "Even when we account for geographical region (continent) the influence of GDP on Infection rates stays significant, with higher Infection rates for Richer countries. (2pts)"
   ]
  },
  {
   "cell_type": "markdown",
   "metadata": {},
   "source": [
    "## Task 2: Nonlinear model of Infection rate (30 pts)\n",
    "### Question 1 (5pts)\n",
    "Fit a linear regression model for the Infection rate (y-variable) as a linear function of UrbanPop (x-variable). \n",
    "Make a scatter plot of the two variables and draw in the regression line. \n",
    "\n",
    "Written answer: Have a look at he fit of the linear model. Which aspect of these predicted values does not respect the natural constraints of the data - i.e. where does the model make predictions that cannot possibly be true?    "
   ]
  },
  {
   "cell_type": "code",
   "execution_count": null,
   "metadata": {},
   "outputs": [],
   "source": [
    "b,R2 = multRegFit(D,D.InfectionRate,['UrbanPop'])\n",
    "sb.scatterplot(D.UrbanPop,D.InfectionRate)\n",
    "x = np.linspace(15,100,20)\n",
    "Dp = pd.DataFrame({'UrbanPop':x})\n",
    "y = multRegPredict(b,Dp,['UrbanPop'])\n",
    "plt.plot(x,y)"
   ]
  },
  {
   "cell_type": "markdown",
   "metadata": {},
   "source": [
    "*Figure* Linear model of Infection rate as a function of percentage Urban population\n"
   ]
  },
  {
   "cell_type": "markdown",
   "metadata": {},
   "source": [
    "*Regression fit: 1pts \n",
    "Plot: 2pts*\n",
    "\n",
    "Predictions of infection rates for low Urban Population is negative - this is impossible, as infection rates cannot be negative. (2pts)"
   ]
  },
  {
   "cell_type": "markdown",
   "metadata": {},
   "source": [
    "### Question 2 (7pts)\n",
    "To improve the the model, let's build an exponential model of the Infection rate. Start with your multiple regression function `multRegPredict`. Modify the funtion so that the predicted infection rate is\n",
    "\n",
    "$InfectionRate = exp (b_0 + b_1 * UrbanPop)$ \n",
    "\n",
    "Make sure you give the new function a new name. Using the function, plot the prediction for $b_0= -4, b_1 = 0.05$, superimposed on the the scatter plot of UrbanPop (x) vs. InfectionRate.  "
   ]
  },
  {
   "cell_type": "code",
   "execution_count": null,
   "metadata": {},
   "outputs": [],
   "source": [
    "def multRegPredictExp(b,D,xname):\n",
    "    yp=np.ones(len(D.index))*b[0]        # Intercept \n",
    "    for i in range(len(xname)):          \n",
    "        yp=yp+D[xname[i]]*b[i+1]         # Add each regression value \n",
    "    return np.exp(yp)\n",
    "\n",
    "sb.scatterplot(D.UrbanPop,D.InfectionRate)\n",
    "b=np.array([-4,0.05])\n",
    "x = np.linspace(15,100,20)\n",
    "Dp = pd.DataFrame({'UrbanPop':x})\n",
    "y = multRegPredictExp(b,Dp,['UrbanPop'])\n",
    "plt.plot(x,y)"
   ]
  },
  {
   "cell_type": "markdown",
   "metadata": {},
   "source": [
    "### Question 3 (8pts)\n",
    "Question 3 and 4 in this task are quite difficult. To make sure that you have enough time to finish the final, it may be best if you first complete all the other Questions (including Task 3) and then return to Question 3 + 4 in the end.  \n",
    "In this Question we will fit the new nonlinear model, using a sum-of-squares loss function. Precisely, we want to minimize the loss-function: \n",
    "\n",
    "$J = \\sum_{n}{(InfectionRate_n - exp (b_0 + b_1 * UrbanPop_n))^2}$ \n",
    "\n",
    "\n",
    "In Question 3 we will do so without the Gradient, in Question 4, you will add the Gradient back in. \n",
    "So, start with the function `multRegLossRSS` from Assignment 10 solutions. \n",
    "\n",
    "Now use your function from Question 2 as the predict function. For this question, remove the gradient from your function and let it only return the residual sums of squares as loss. \n",
    "\n",
    "Then modify `multRegFit` from the Assignment 10 solutions to call the new loss function. When calling `so.minimize`, make sure that you set `jac=False`. \n",
    "\n",
    "Then fit the model with your new function, and plot the prediction line onto the scatter plot. \n",
    "\n",
    "\n",
    "Written answer 1: Was the fit successful?  \n",
    "Written answer 2: What does the `jac=False` option do? \n"
   ]
  },
  {
   "cell_type": "code",
   "execution_count": null,
   "metadata": {
    "scrolled": true
   },
   "outputs": [],
   "source": [
    "def multRegLossRSSExp(b,D,y,xname):\n",
    "    predY = multRegPredictExp(b,D,xname)\n",
    "    res = y-predY\n",
    "    rss = sum(res**2)\n",
    "    grad=np.zeros(len(b))\n",
    "    grad[0]=-2*np.sum(res)\n",
    "    for i in range(len(xname)):\n",
    "        grad[i+1]=-2*np.sum(D[xname[i]]*res)\n",
    "    # grad = grad * predY\n",
    "    return (rss)\n",
    "\n",
    "def multRegFitExp(D,y,xname):\n",
    "    N=len(xname)\n",
    "    b0=np.zeros((N+1,1))\n",
    "    RES = so.minimize(multRegLossRSSExp,b0,args=(D,y,xname),jac=False)\n",
    "    if (not(RES.success)):\n",
    "        print('unsuccessful fit')\n",
    "        print(RES)\n",
    "    b=RES.x # Results\n",
    "    res = y-np.mean(y)\n",
    "    TSS = sum(res**2)\n",
    "    RSS = multRegLossRSSExp(b,D,y,xname)\n",
    "    R2 = 1-RSS/TSS \n",
    "    return (b,R2)\n",
    "\n",
    "b,R2 = multRegFitExp(D,D.InfectionRate,['UrbanPop'])\n",
    "sb.scatterplot(D.UrbanPop,D.InfectionRate)\n",
    "y = multRegPredictExp(b,Dp,['UrbanPop'])\n",
    "plt.plot(x,y)"
   ]
  },
  {
   "cell_type": "markdown",
   "metadata": {},
   "source": [
    " The fit was not successfull, as the gradient was not provided, so unclear how much it can be trusted. (1pt)\n",
    " The `jac=False` tells so.optimize not to expect a gradient (Jacobian). (1pt)"
   ]
  },
  {
   "cell_type": "markdown",
   "metadata": {},
   "source": [
    "### Question 4: Add the derivative (10pts)\n",
    "Now calculate and report the two derivatives $\\frac{\\partial J}{\\partial b_0}$, and $\\frac{\\partial J}{\\partial b_1}$. Check your notes from Lecture 7! \n",
    "\n",
    "Also, remember $\\frac{\\partial exp(x)}{\\partial x}=exp(x)$. \n",
    "\n",
    "Now add the derivative back into your loss function and let it return the gradient. Refit the model, remembering to set the option `jac=True`, when you call the optimizer. \n",
    "\n",
    "Again plot the fit. Was the fit this time successful? "
   ]
  },
  {
   "cell_type": "markdown",
   "metadata": {},
   "source": [
    "$J = \\sum_{n}{(y_n - exp (b_0 + b_1 * x_n))^2}$ \n",
    "\n",
    "$\\frac{\\partial J}{\\partial b_0} = -2\\sum_{n}{(y_n - exp (b_0 + b_1 * x_n)*exp (b_0 + b_1 * x_n))}$\n",
    "\n",
    "$\\frac{\\partial J}{\\partial b_1} = -2\\sum_{n}{(y_n - exp (b_0 + b_1 * x_n)*x_n*exp (b_0 + b_1 * x_n))}$."
   ]
  },
  {
   "cell_type": "code",
   "execution_count": null,
   "metadata": {},
   "outputs": [],
   "source": [
    "def multRegLossRSSExp(b,D,y,xname):\n",
    "    predY = multRegPredictExp(b,D,xname)\n",
    "    res = y-predY\n",
    "    rss = sum(res**2)\n",
    "    grad=np.zeros(len(b))\n",
    "    grad[0]=-2*np.sum(res* predY)\n",
    "    for i in range(len(xname)):\n",
    "        grad[i+1]=-2*np.sum(D[xname[i]]*res * predY)\n",
    "    return (rss,grad)\n",
    "\n",
    "def multRegFitExp(D,y,xname):\n",
    "    N=len(xname)\n",
    "    b0=np.zeros((N+1,1))\n",
    "    RES = so.minimize(multRegLossRSSExp,b0,args=(D,y,xname),jac=True)\n",
    "    if (not(RES.success)):\n",
    "        print('unsuccessful fit')\n",
    "        print(RES)\n",
    "    b=RES.x # Results\n",
    "    res = y-np.mean(y)\n",
    "    TSS = sum(res**2)\n",
    "    RSS,R2 = multRegLossRSSExp(b,D,y,xname)\n",
    "    R2 = 1-RSS/TSS \n",
    "    return (b,R2)\n",
    "\n",
    "b,R2 = multRegFitExp(D,D.InfectionRate,['UrbanPop'])\n",
    "sb.scatterplot(D.UrbanPop,D.InfectionRate)\n",
    "y = multRegPredictExp(b,Dp,['UrbanPop'])\n",
    "plt.plot(x,y)"
   ]
  },
  {
   "cell_type": "markdown",
   "metadata": {},
   "source": [
    "The fit was time time successful. "
   ]
  },
  {
   "cell_type": "markdown",
   "metadata": {},
   "source": [
    "## Task 3: Modeling mortality rate (30pts)\n",
    "Estimates of the mortality rate associated with COVID19 are still very uncertain, and differ dramatically between different countries. In this task we will investigate the issues connected with estimating mortality rates. \n",
    "\n",
    "### Question 1 (4pts)\n",
    "The mortality rate of a disease is defined as the probability that a patient will die, given that he or she contracted the disease. \n",
    "\n",
    "Generate a crude estimate for the Mortality rate *for each* Country by dividing the Total number of reported Deaths by the Total number of confirmed cases.\n",
    "\n",
    "Make a histogram of the mortality estimates across countries. How would you describe the distribution in terms of skew and modality?  "
   ]
  },
  {
   "cell_type": "code",
   "execution_count": null,
   "metadata": {},
   "outputs": [],
   "source": [
    "D['Mortality']= D.TotalDeaths/D.TotalInfected\n",
    "sb.distplot(D.Mortality)"
   ]
  },
  {
   "cell_type": "markdown",
   "metadata": {},
   "source": [
    "Histogram of COVID19 mortality rates across countries. "
   ]
  },
  {
   "cell_type": "markdown",
   "metadata": {},
   "source": [
    "*Calculation (1pt), Plot (1pt)*\n",
    "The distribution is right-skewed (1pt) and possibly bi-modal with one mode around 0 and one around 0.1. (1pt)"
   ]
  },
  {
   "cell_type": "markdown",
   "metadata": {},
   "source": [
    "### Question 2  (6pts)\n",
    "Why may TotalDeaths/TotalInfected not be a good estimator for the true mortality rate? See the definition of Mortality rate in question 1. Name at least 1 factor that could make your estimate lower than the true mortality rate, and 1 factor that would make the estimate higher than the true mortality rate. For each factor you describe, explain what data a research team could realistically acquire within a month of work to make the estimate of mortality better."
   ]
  },
  {
   "cell_type": "markdown",
   "metadata": {},
   "source": [
    "Underestimate \n",
    "- Currently confirmed cases may still die: Track the currently infected patients for a month and see who will die. \n",
    "- Not all COVID19 related death maybe reported as such: Look at increases in Mortality rate overall in comparision to previous years, to figure out how many cases may be unreported. \n",
    "\n",
    "Overestimate: \n",
    "- There may be many more (asymptomatic or mild) infections than the confirmed ones: Randomly sample or test everybody in a given population and compare this positive rate to previously confirmed number of cases. \n",
    "\n",
    "*For each good reason 2pt, 1pt for fix* "
   ]
  },
  {
   "cell_type": "markdown",
   "metadata": {},
   "source": [
    "### Question 3  (7pts)\n",
    "Let's now use the GDP per person and Infection rate as predictors for our estimate of mortality rate. When interpreting results, remember from Task 1 that there is a positive correlation between the GPD per person and the Infection rate across countries. \n",
    "\n",
    "Now fit 3 linear models: \n",
    "1. Explaining Mortality Rate (as defined in T3,Q1) as a linear function of GDP per person (as defined in T1, Q3)\n",
    "2. Explaining Mortality Rate (as defined in T3,Q1) as a linear function of Infection rate (as defined in T1, Q3)\n",
    "3. Explaining Mortality Rate as a linear function of both GDP per person and Infection rate. \n",
    "\n",
    "For each model (1-3), report the fitted coefficients for GDP per person and Infection Rate (denoting which variables they belong to) and the fitted R2. \n",
    "\n",
    "Written answer: does the sign of the coefficient for GDP per person switch when you move from model 1 to model 3? What does this mean for the influence of GDP on Mortality rate? Looking at the R2-values for all three models, what phenonon do you observe here? "
   ]
  },
  {
   "cell_type": "code",
   "execution_count": null,
   "metadata": {},
   "outputs": [],
   "source": [
    "\n",
    "b,R2 = smMultReg(D2,'Mortality','GDPpp')\n",
    "print('Model1: ', round(R2,4))\n",
    "print('GDPpp:',round(b[1],8))\n",
    "\n",
    "b,R2 = smMultReg(D2,'Mortality','InfectionRate')\n",
    "print('Model2', round(R2,4))\n",
    "print('InfRate:',round(b[1],5))\n",
    "      \n",
    "b,R2 = smMultReg(D2,'Mortality','InfectionRate + GDPpp')\n",
    "print('Model3', round(R2,4))\n",
    "print('InfRate:',round(b[1],5))\n",
    "print('GDPpp:',round(b[2],8))\n"
   ]
  },
  {
   "cell_type": "markdown",
   "metadata": {},
   "source": [
    "*per correctly fitted model 1 pt* \n",
    "\n",
    "The Sign of the GDP regression coefficient goes from positive to negative in the full model. (1pt) That means, once accounting fo infection rate, high GDP is actually a predictor of low mortality. (1pt) Because the R2 of the joint model is larger than the summed R2 of the single models, we are looking at suppression. (2pt)  "
   ]
  },
  {
   "cell_type": "markdown",
   "metadata": {},
   "source": [
    "### Question 4 (6pts)\n",
    "In this question, we will try to build a model that can predict Mortality rate in a cross-validated fashion.\n",
    "\n",
    "Use leave-one-out crossvalidation to determine what is the most appropriate model of Mortality Rate across different countries. \n",
    "\n",
    "Start with evaluating the model that explains Mortality of Infection Rate and GDP per person. Report the cross-validated R2. What do you conclude from this number? "
   ]
  },
  {
   "cell_type": "code",
   "execution_count": null,
   "metadata": {},
   "outputs": [],
   "source": [
    "R2cv = leaveOneOutCV(D,'Mortality','InfectionRate + GDPpp')\n",
    "print('Crossvalidated R2:',round(R2cv,4))"
   ]
  },
  {
   "cell_type": "markdown",
   "metadata": {},
   "source": [
    "*(3pt) for correct crossvalidation*\n",
    "\n",
    "The negative R2 shows that the model does not predict he data better than just predicting the mean Mortality rate. (3pt)"
   ]
  },
  {
   "cell_type": "markdown",
   "metadata": {},
   "source": [
    "### Question 5 (7pts)\n",
    "Now consider the following three linear models to fit the Mortality rate and report cross-validated R2 for each of them. \n",
    "The models should containt (additionally to the intercept) the following linear terms:\n",
    "1. MedianAge \n",
    "2. InfectionRate, HospitalBed\n",
    "3. InfectionRate, HospitalBed, Product of InfectionRate and HospitalBed  \n",
    "\n",
    "Written answer: What do you conclude? What is the problem especially with the last model?  \n",
    "    "
   ]
  },
  {
   "cell_type": "code",
   "execution_count": null,
   "metadata": {},
   "outputs": [],
   "source": [
    "R2cv = leaveOneOutCV(D,'Mortality','MedianAge')\n",
    "print('Crossvalidated R2:',round(R2cv,4))"
   ]
  },
  {
   "cell_type": "code",
   "execution_count": null,
   "metadata": {},
   "outputs": [],
   "source": [
    "R2cv = leaveOneOutCV(D,'Mortality','InfectionRate + HospitalBed')\n",
    "print('Crossvalidated R2:',round(R2cv,4))"
   ]
  },
  {
   "cell_type": "code",
   "execution_count": null,
   "metadata": {},
   "outputs": [],
   "source": [
    "R2cv = leaveOneOutCV(D,'Mortality','InfectionRate + HospitalBed + InfectionRate*HospitalBed ')\n",
    "print('Crossvalidated R2:',round(R2cv,4))"
   ]
  },
  {
   "cell_type": "markdown",
   "metadata": {},
   "source": [
    "*1 pt for each correct R2CV*\n",
    "\n",
    "All Models return negative predictive R2 - especially the last model overfits the data. (2pts) Probably the lack of good controlled estimates of Mortality rates limits the usefulness of the data. (2pts)"
   ]
  }
 ],
 "metadata": {
  "hide_input": false,
  "kernelspec": {
   "display_name": "Python 3 (ipykernel)",
   "language": "python",
   "name": "python3"
  },
  "language_info": {
   "codemirror_mode": {
    "name": "ipython",
    "version": 3
   },
   "file_extension": ".py",
   "mimetype": "text/x-python",
   "name": "python",
   "nbconvert_exporter": "python",
   "pygments_lexer": "ipython3",
   "version": "3.10.9"
  },
  "varInspector": {
   "cols": {
    "lenName": 16,
    "lenType": 16,
    "lenVar": 40
   },
   "kernels_config": {
    "python": {
     "delete_cmd_postfix": "",
     "delete_cmd_prefix": "del ",
     "library": "var_list.py",
     "varRefreshCmd": "print(var_dic_list())"
    },
    "r": {
     "delete_cmd_postfix": ") ",
     "delete_cmd_prefix": "rm(",
     "library": "var_list.r",
     "varRefreshCmd": "cat(var_dic_list()) "
    }
   },
   "types_to_exclude": [
    "module",
    "function",
    "builtin_function_or_method",
    "instance",
    "_Feature"
   ],
   "window_display": false
  }
 },
 "nbformat": 4,
 "nbformat_minor": 1
}
